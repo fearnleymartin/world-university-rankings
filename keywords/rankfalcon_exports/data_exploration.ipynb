{
 "cells": [
  {
   "cell_type": "markdown",
   "metadata": {},
   "source": [
    "# Introduction\n",
    "\n",
    "In this project, our aim is to study how present the world's universities are in Google's search results, and use the results to build an alternative university ranking.\n",
    "We will then compare our results to more traditionnal university rankings to see how much information we are able to extract simply by looking at Google search results.\n",
    "\n",
    "The methodology used is as follows:\n",
    "We have a list of the world's universities and a list of Google search queries (of the form <degree_type> + <subject>, e.g. \"master's in computer science\")\n",
    "We make a request to Google for each of our search queries, and we parse the results page to extract all the universities that appear for a given search queries, as well as the order they appear in.\n",
    "To build the simplest version of our ranking, we then count how many times each universities appear when we aggregate over all keywords, and we ponder the results with the order the universities appear in (i.e. if for \"master's in computer science, EPFL appears 10th and ETHZ appears 25th on the search results page, then we give more weight to EPFL than ETHZ).\n",
    "\n",
    "We then take things a step further by using data drawn from Google Keyword Planner to ponder the different search queries used. For each search query, we have access to data such as the monthly search volume, the competition when advertising on this keyword, as well as the suggested bid when advertising on that keyword. We consider as search query to be more important when the three values are higher.\n",
    "\n",
    "We also study our results on a country by country basis. This allows us to see which countries are the most represented. However, we recognise that our methodology has its limitation because all of our search queries are in English, and not all universities have an English version of their website.\n",
    "\n",
    "Finally we compare our results to those obtained in more traditionnal university rankings.\n"
   ]
  },
  {
   "cell_type": "code",
   "execution_count": 1,
   "metadata": {
    "collapsed": true
   },
   "outputs": [],
   "source": [
    "%matplotlib inline\n",
    "import pandas as pd\n",
    "import numpy as np"
   ]
  },
  {
   "cell_type": "markdown",
   "metadata": {},
   "source": [
    "# Loading data"
   ]
  },
  {
   "cell_type": "code",
   "execution_count": 54,
   "metadata": {
    "collapsed": false
   },
   "outputs": [
    {
     "data": {
      "text/html": [
       "<div>\n",
       "<table border=\"1\" class=\"dataframe\">\n",
       "  <thead>\n",
       "    <tr style=\"text-align: right;\">\n",
       "      <th></th>\n",
       "      <th>rank</th>\n",
       "      <th>keyword</th>\n",
       "      <th>domain</th>\n",
       "      <th>University</th>\n",
       "      <th>Country</th>\n",
       "    </tr>\n",
       "  </thead>\n",
       "  <tbody>\n",
       "    <tr>\n",
       "      <th>0</th>\n",
       "      <td>43</td>\n",
       "      <td>bachelor's degree in Economics</td>\n",
       "      <td>www.au.dk</td>\n",
       "      <td>Aarhus University</td>\n",
       "      <td>Denmark</td>\n",
       "    </tr>\n",
       "    <tr>\n",
       "      <th>1</th>\n",
       "      <td>42</td>\n",
       "      <td>bachelor's degree in Economics</td>\n",
       "      <td>www.au.dk</td>\n",
       "      <td>Aarhus University</td>\n",
       "      <td>Denmark</td>\n",
       "    </tr>\n",
       "    <tr>\n",
       "      <th>2</th>\n",
       "      <td>91</td>\n",
       "      <td>bachelor's degree in English Language</td>\n",
       "      <td>www.au.dk</td>\n",
       "      <td>Aarhus University</td>\n",
       "      <td>Denmark</td>\n",
       "    </tr>\n",
       "    <tr>\n",
       "      <th>3</th>\n",
       "      <td>29</td>\n",
       "      <td>bachelor's degree in Archaeology</td>\n",
       "      <td>www.au.dk</td>\n",
       "      <td>Aarhus University</td>\n",
       "      <td>Denmark</td>\n",
       "    </tr>\n",
       "    <tr>\n",
       "      <th>4</th>\n",
       "      <td>7</td>\n",
       "      <td>bachelor's degree in Business &amp; Commercial Law</td>\n",
       "      <td>www.au.dk</td>\n",
       "      <td>Aarhus University</td>\n",
       "      <td>Denmark</td>\n",
       "    </tr>\n",
       "  </tbody>\n",
       "</table>\n",
       "</div>"
      ],
      "text/plain": [
       "   rank                                         keyword     domain  \\\n",
       "0    43                  bachelor's degree in Economics  www.au.dk   \n",
       "1    42                  bachelor's degree in Economics  www.au.dk   \n",
       "2    91           bachelor's degree in English Language  www.au.dk   \n",
       "3    29                bachelor's degree in Archaeology  www.au.dk   \n",
       "4     7  bachelor's degree in Business & Commercial Law  www.au.dk   \n",
       "\n",
       "          University  Country  \n",
       "0  Aarhus University  Denmark  \n",
       "1  Aarhus University  Denmark  \n",
       "2  Aarhus University  Denmark  \n",
       "3  Aarhus University  Denmark  \n",
       "4  Aarhus University  Denmark  "
      ]
     },
     "execution_count": 54,
     "metadata": {},
     "output_type": "execute_result"
    }
   ],
   "source": [
    "keywords = pd.read_csv('keywords.csv')\n",
    "sites = pd.read_csv('sites.csv')\n",
    "rankings = pd.read_csv('rankings.csv')\n",
    "universities = pd.read_csv('../../universities/university_list_countries.csv')\n",
    "keyword_data = pd.read_csv('../Keyword Planner type 1 2017-01-09 at 01-28-48.csv', sep='\\t')\n",
    "\n",
    "rankings = rankings.merge(keywords, on='id_keyword')\n",
    "rankings = rankings.merge(sites, on='id_site')\n",
    "rankings = rankings.merge(universities, left_on='domain', right_on='Website')\n",
    "rankings = rankings[['rank','keyword', 'domain', 'University', 'Country']]\n",
    "rankings = rankings.drop_duplicates()  # Note the data is dirty and contains about 10000 duplicates\n",
    "rankings.head()"
   ]
  },
  {
   "cell_type": "markdown",
   "metadata": {},
   "source": [
    "We have used a list of over 300 search queries (of the form <degree_type> + <subject>, e.g. \"master's in computer science\") and a list of about 10000 universities across the world. \n",
    "\n",
    "Each entry in the above table represents an appeareance of the given university domain amoung the first 100 Google search results obtained with the corresponding query (keyword). The rank is the position the university appeared on the results page.\n",
    "\n"
   ]
  },
  {
   "cell_type": "markdown",
   "metadata": {},
   "source": [
    "# Initial data exploration"
   ]
  },
  {
   "cell_type": "code",
   "execution_count": 55,
   "metadata": {
    "collapsed": false
   },
   "outputs": [
    {
     "data": {
      "text/plain": [
       "count           24488\n",
       "unique           1447\n",
       "top       www.asu.edu\n",
       "freq              223\n",
       "Name: domain, dtype: object"
      ]
     },
     "execution_count": 55,
     "metadata": {},
     "output_type": "execute_result"
    }
   ],
   "source": [
    "rankings.domain.describe()"
   ]
  },
  {
   "cell_type": "code",
   "execution_count": 56,
   "metadata": {
    "collapsed": false
   },
   "outputs": [
    {
     "data": {
      "text/plain": [
       "id_site    9260\n",
       "domain     9258\n",
       "dtype: int64"
      ]
     },
     "execution_count": 56,
     "metadata": {},
     "output_type": "execute_result"
    }
   ],
   "source": [
    "sites.count()"
   ]
  },
  {
   "cell_type": "markdown",
   "metadata": {},
   "source": [
    "We see that 1448 / 9260 of the universities considered appear at least once in the google search results. Seen under a different light, this means that 7812 universities are hardly visible on the web..."
   ]
  },
  {
   "cell_type": "markdown",
   "metadata": {},
   "source": [
    "## Very basic ranking of universities"
   ]
  },
  {
   "cell_type": "markdown",
   "metadata": {},
   "source": [
    "We can see which universities are the most present in Google search results simply by seeing on how many queries they appear (see following table). In the following sections, we will precede to ponder our results with the search rankings and with keyword metadata.\n",
    "\n",
    "With unweighted results we see the ase.edu (Arizona state university) appears the most (for 223 keywords out of a possible 339)"
   ]
  },
  {
   "cell_type": "code",
   "execution_count": 57,
   "metadata": {
    "collapsed": false
   },
   "outputs": [
    {
     "data": {
      "text/plain": [
       "Arizona State University         223\n",
       "Boston University                209\n",
       "New York University              194\n",
       "Stanford University              180\n",
       "Pennsylvania State University    174\n",
       "Name: University, dtype: int64"
      ]
     },
     "execution_count": 57,
     "metadata": {},
     "output_type": "execute_result"
    }
   ],
   "source": [
    "rankings.University.value_counts().head()"
   ]
  },
  {
   "cell_type": "code",
   "execution_count": 58,
   "metadata": {
    "collapsed": true
   },
   "outputs": [],
   "source": [
    "rankings.University.value_counts().to_csv('unweighted_ranking.csv')"
   ]
  },
  {
   "cell_type": "markdown",
   "metadata": {},
   "source": [
    "# Pondering the results with search rankings"
   ]
  },
  {
   "cell_type": "markdown",
   "metadata": {},
   "source": [
    "The search rank corresponds to the position a given website appears on the search results page for a given query. For example, if for the query \"master's in computer science\", EPFL appears in first position and ETHZ in second, then we say that EPFL's search ranking is 1 and ETHZ's is 2.\n",
    "\n",
    "To use the ranking data, we invert the rank obtained because a higher rank is better (i.e. ranking first is better than ranking 99th). We need to make sure this is reflected in the weighting.\n",
    "\n",
    "We then weight our rankings depending on where the university came in the the search results for each query. We call the new rank \"inv_rank\" (see table below)"
   ]
  },
  {
   "cell_type": "code",
   "execution_count": 60,
   "metadata": {
    "collapsed": false
   },
   "outputs": [
    {
     "data": {
      "text/html": [
       "<div>\n",
       "<table border=\"1\" class=\"dataframe\">\n",
       "  <thead>\n",
       "    <tr style=\"text-align: right;\">\n",
       "      <th></th>\n",
       "      <th>rank</th>\n",
       "      <th>keyword</th>\n",
       "      <th>domain</th>\n",
       "      <th>University</th>\n",
       "      <th>Country</th>\n",
       "      <th>inv_rank</th>\n",
       "    </tr>\n",
       "  </thead>\n",
       "  <tbody>\n",
       "    <tr>\n",
       "      <th>0</th>\n",
       "      <td>43</td>\n",
       "      <td>bachelor's degree in Economics</td>\n",
       "      <td>www.au.dk</td>\n",
       "      <td>Aarhus University</td>\n",
       "      <td>Denmark</td>\n",
       "      <td>0.023256</td>\n",
       "    </tr>\n",
       "    <tr>\n",
       "      <th>1</th>\n",
       "      <td>42</td>\n",
       "      <td>bachelor's degree in Economics</td>\n",
       "      <td>www.au.dk</td>\n",
       "      <td>Aarhus University</td>\n",
       "      <td>Denmark</td>\n",
       "      <td>0.023810</td>\n",
       "    </tr>\n",
       "    <tr>\n",
       "      <th>2</th>\n",
       "      <td>91</td>\n",
       "      <td>bachelor's degree in English Language</td>\n",
       "      <td>www.au.dk</td>\n",
       "      <td>Aarhus University</td>\n",
       "      <td>Denmark</td>\n",
       "      <td>0.010989</td>\n",
       "    </tr>\n",
       "    <tr>\n",
       "      <th>3</th>\n",
       "      <td>29</td>\n",
       "      <td>bachelor's degree in Archaeology</td>\n",
       "      <td>www.au.dk</td>\n",
       "      <td>Aarhus University</td>\n",
       "      <td>Denmark</td>\n",
       "      <td>0.034483</td>\n",
       "    </tr>\n",
       "    <tr>\n",
       "      <th>4</th>\n",
       "      <td>7</td>\n",
       "      <td>bachelor's degree in Business &amp; Commercial Law</td>\n",
       "      <td>www.au.dk</td>\n",
       "      <td>Aarhus University</td>\n",
       "      <td>Denmark</td>\n",
       "      <td>0.142857</td>\n",
       "    </tr>\n",
       "  </tbody>\n",
       "</table>\n",
       "</div>"
      ],
      "text/plain": [
       "   rank                                         keyword     domain  \\\n",
       "0    43                  bachelor's degree in Economics  www.au.dk   \n",
       "1    42                  bachelor's degree in Economics  www.au.dk   \n",
       "2    91           bachelor's degree in English Language  www.au.dk   \n",
       "3    29                bachelor's degree in Archaeology  www.au.dk   \n",
       "4     7  bachelor's degree in Business & Commercial Law  www.au.dk   \n",
       "\n",
       "          University  Country  inv_rank  \n",
       "0  Aarhus University  Denmark  0.023256  \n",
       "1  Aarhus University  Denmark  0.023810  \n",
       "2  Aarhus University  Denmark  0.010989  \n",
       "3  Aarhus University  Denmark  0.034483  \n",
       "4  Aarhus University  Denmark  0.142857  "
      ]
     },
     "execution_count": 60,
     "metadata": {},
     "output_type": "execute_result"
    }
   ],
   "source": [
    "rankings['inv_rank'] = rankings['rank'].apply(lambda x: 1./x)\n",
    "rankings.head()"
   ]
  },
  {
   "cell_type": "markdown",
   "metadata": {},
   "source": [
    "# Grouping by university"
   ]
  },
  {
   "cell_type": "markdown",
   "metadata": {},
   "source": [
    "The next step is naturally to group our results by university. This basically comes down to taking the sum of all the \"inv_rank\"s over all the search queries on which a university appears. See the table below for a ranking of universities taking into account search rankings."
   ]
  },
  {
   "cell_type": "code",
   "execution_count": 143,
   "metadata": {
    "collapsed": false
   },
   "outputs": [],
   "source": [
    "grouped_rankings = rankings.groupby(['University','Country'])"
   ]
  },
  {
   "cell_type": "code",
   "execution_count": 144,
   "metadata": {
    "collapsed": false
   },
   "outputs": [
    {
     "data": {
      "text/html": [
       "<div>\n",
       "<table border=\"1\" class=\"dataframe\">\n",
       "  <thead>\n",
       "    <tr style=\"text-align: right;\">\n",
       "      <th></th>\n",
       "      <th></th>\n",
       "      <th>rank</th>\n",
       "      <th>inv_rank</th>\n",
       "    </tr>\n",
       "    <tr>\n",
       "      <th>University</th>\n",
       "      <th>Country</th>\n",
       "      <th></th>\n",
       "      <th></th>\n",
       "    </tr>\n",
       "  </thead>\n",
       "  <tbody>\n",
       "    <tr>\n",
       "      <th>Boston University</th>\n",
       "      <th>Massachusetts</th>\n",
       "      <td>7547</td>\n",
       "      <td>25.329307</td>\n",
       "    </tr>\n",
       "    <tr>\n",
       "      <th>New York University</th>\n",
       "      <th>New York</th>\n",
       "      <td>7445</td>\n",
       "      <td>15.952792</td>\n",
       "    </tr>\n",
       "    <tr>\n",
       "      <th>Stanford University</th>\n",
       "      <th>California</th>\n",
       "      <td>6479</td>\n",
       "      <td>15.136372</td>\n",
       "    </tr>\n",
       "    <tr>\n",
       "      <th>Southern New Hampshire University</th>\n",
       "      <th>New Hampshire</th>\n",
       "      <td>2788</td>\n",
       "      <td>14.145092</td>\n",
       "    </tr>\n",
       "    <tr>\n",
       "      <th>Columbia University</th>\n",
       "      <th>New York</th>\n",
       "      <td>4861</td>\n",
       "      <td>14.031654</td>\n",
       "    </tr>\n",
       "  </tbody>\n",
       "</table>\n",
       "</div>"
      ],
      "text/plain": [
       "                                                 rank   inv_rank\n",
       "University                        Country                       \n",
       "Boston University                 Massachusetts  7547  25.329307\n",
       "New York University               New York       7445  15.952792\n",
       "Stanford University               California     6479  15.136372\n",
       "Southern New Hampshire University New Hampshire  2788  14.145092\n",
       "Columbia University               New York       4861  14.031654"
      ]
     },
     "execution_count": 144,
     "metadata": {},
     "output_type": "execute_result"
    }
   ],
   "source": [
    "grouped_weighted_rankings = grouped_rankings.sum().sort_values(['inv_rank'], ascending=False)\n",
    "grouped_weighted_rankings.head()"
   ]
  },
  {
   "cell_type": "markdown",
   "metadata": {},
   "source": [
    "Above is a weighted ranking of the universities"
   ]
  },
  {
   "cell_type": "code",
   "execution_count": 11,
   "metadata": {
    "collapsed": false
   },
   "outputs": [],
   "source": [
    "grouped_weighted_rankings.to_csv('weighted_rankings.csv', encoding='utf-8')"
   ]
  },
  {
   "cell_type": "markdown",
   "metadata": {},
   "source": [
    "# Country by country ranking"
   ]
  },
  {
   "cell_type": "markdown",
   "metadata": {},
   "source": [
    "We may also be interested in seeing how represented each countries are in our alternative rankings. See table below which shows the number of universities of each country present in the ranking."
   ]
  },
  {
   "cell_type": "code",
   "execution_count": 106,
   "metadata": {
    "collapsed": false
   },
   "outputs": [],
   "source": [
    "weighted_rankings = pd.read_csv('weighted_rankings.csv', encoding='utf-8')"
   ]
  },
  {
   "cell_type": "code",
   "execution_count": 107,
   "metadata": {
    "collapsed": false
   },
   "outputs": [
    {
     "data": {
      "text/plain": [
       "United States of America    898\n",
       "United Kingdom               93\n",
       "Canada                       55\n",
       "Germany                      40\n",
       "Australia                    33\n",
       "Italy                        30\n",
       "Spain                        20\n",
       "France                       17\n",
       "China                        14\n",
       "Netherlands                  14\n",
       "Sweden                       13\n",
       "South Africa                 12\n",
       "Malaysia                     12\n",
       "India                        12\n",
       "Pakistan                     11\n",
       "Ireland                      11\n",
       "Japan                         9\n",
       "Finland                       9\n",
       "Norway                        8\n",
       "Austria                       8\n",
       "Name: Country, dtype: int64"
      ]
     },
     "execution_count": 107,
     "metadata": {},
     "output_type": "execute_result"
    }
   ],
   "source": [
    "# Our data source for countries specifies individuals states. We replace these states with \"United States of America\"\n",
    "states = ['New York', 'California', 'Pennsylvania', 'Texas', 'Massachusetts','Illinois','Ohio','Florida','Virginia','Michigan','North Carolina',\n",
    "         'Tennessee','Indiana','Wisconsin','Georgia','Missouri','Minnesota','Colorado','New Jersey','Alabama','Louisiana','Washington',\n",
    "         'Maryland','Oregon','Kentucky','Connecticut','Kansas','Nebraska','Oklahoma','South Carolina','Maine','Vermont','Mississippi',\n",
    "         'Rhode Island','Arizona','Arkansas','District of Columbia','Iowa','Utah','New Hampshire','South Dakota','Idaho','New Mexico',\n",
    "         'Delaware','Alaska','Hawaii', 'North Dakota', 'Wyoming','Montana','Nevada','West Virginia']\n",
    "weighted_rankings['Country'].replace(to_replace=states,value='United States of America').value_counts().head(20)"
   ]
  },
  {
   "cell_type": "code",
   "execution_count": 14,
   "metadata": {
    "collapsed": false
   },
   "outputs": [
    {
     "data": {
      "text/plain": [
       "(74,)"
      ]
     },
     "execution_count": 14,
     "metadata": {},
     "output_type": "execute_result"
    }
   ],
   "source": [
    "weighted_rankings.replace(to_replace=states,value='United States of America').groupby('Country').size().shape"
   ]
  },
  {
   "cell_type": "markdown",
   "metadata": {},
   "source": [
    "First observation: 74 countries make it onto our rankings.\n",
    "\n",
    "Second observation: Heavy dominance by US then english speaking countries.\n",
    "\n",
    "Up to here, all the queries have been made in English, so it's not surprising that the results are dominated by English speaking countries. Nevertheless many non native English universities often have websites in English, allowing them to rank. We might make adjustment in the future to balance out the playing field. However, we should note that other university rankings are heavily dominated by English speaking universities too."
   ]
  },
  {
   "cell_type": "markdown",
   "metadata": {},
   "source": [
    "# Pondering with keyword metadata"
   ]
  },
  {
   "cell_type": "markdown",
   "metadata": {},
   "source": [
    "In this section, we aim to weight the different search queries (degree type + subject) according to data drawn from Google keyword  planner consisting of search volume, competition and suggested bid.\n",
    "\n",
    "- Search volume: we suppose that keywords with higher search volumes are more important\n",
    "- Competition: we suppose that more competitive keywords (when bidding for ads) are more important\n",
    "- Suggested bid: we suppose that a higher suggested bid (for placing an ad on this keyword) indicates a more important keyword."
   ]
  },
  {
   "cell_type": "code",
   "execution_count": 145,
   "metadata": {
    "collapsed": true
   },
   "outputs": [],
   "source": [
    "# auxiliary function\n",
    "def lower(string):\n",
    "    return string.lower()"
   ]
  },
  {
   "cell_type": "code",
   "execution_count": 146,
   "metadata": {
    "collapsed": false
   },
   "outputs": [],
   "source": [
    "# data wrangling\n",
    "rankings.columns = ['rank', 'Keyword', 'domain', 'University', 'Country', 'inv_rank']\n",
    "rankings['Keyword'] = rankings['Keyword'].apply(lower)"
   ]
  },
  {
   "cell_type": "code",
   "execution_count": 147,
   "metadata": {
    "collapsed": false
   },
   "outputs": [
    {
     "data": {
      "text/html": [
       "<div>\n",
       "<table border=\"1\" class=\"dataframe\">\n",
       "  <thead>\n",
       "    <tr style=\"text-align: right;\">\n",
       "      <th></th>\n",
       "      <th>Keyword</th>\n",
       "      <th>Search volume</th>\n",
       "      <th>Competition</th>\n",
       "      <th>Suggested bid</th>\n",
       "    </tr>\n",
       "  </thead>\n",
       "  <tbody>\n",
       "    <tr>\n",
       "      <th>0</th>\n",
       "      <td>phd in management</td>\n",
       "      <td>3</td>\n",
       "      <td>0.29</td>\n",
       "      <td>3.62</td>\n",
       "    </tr>\n",
       "    <tr>\n",
       "      <th>1</th>\n",
       "      <td>phd in psychology</td>\n",
       "      <td>3</td>\n",
       "      <td>0.55</td>\n",
       "      <td>24.62</td>\n",
       "    </tr>\n",
       "    <tr>\n",
       "      <th>2</th>\n",
       "      <td>phd in economics</td>\n",
       "      <td>3</td>\n",
       "      <td>0.15</td>\n",
       "      <td>2.70</td>\n",
       "    </tr>\n",
       "    <tr>\n",
       "      <th>3</th>\n",
       "      <td>phd in germany</td>\n",
       "      <td>3</td>\n",
       "      <td>0.26</td>\n",
       "      <td>0.98</td>\n",
       "    </tr>\n",
       "    <tr>\n",
       "      <th>4</th>\n",
       "      <td>phd in law</td>\n",
       "      <td>3</td>\n",
       "      <td>0.18</td>\n",
       "      <td>3.28</td>\n",
       "    </tr>\n",
       "  </tbody>\n",
       "</table>\n",
       "</div>"
      ],
      "text/plain": [
       "             Keyword  Search volume  Competition  Suggested bid\n",
       "0  phd in management              3         0.29           3.62\n",
       "1  phd in psychology              3         0.55          24.62\n",
       "2   phd in economics              3         0.15           2.70\n",
       "3     phd in germany              3         0.26           0.98\n",
       "4         phd in law              3         0.18           3.28"
      ]
     },
     "execution_count": 147,
     "metadata": {},
     "output_type": "execute_result"
    }
   ],
   "source": [
    "# loading and cleaning the keyword data\n",
    "keyword_data = pd.read_csv('../Keyword Planner type 1 2017-01-09 at 01-28-48.csv', sep='\\t')\n",
    "\n",
    "# data cleaning\n",
    "keyword_data.columns = ['Keyword', 'Search volume','Competition', 'Suggested bid']\n",
    "keyword_data['Search volume'].fillna(1, inplace=True)\n",
    "keyword_data['Competition'].fillna(0.01, inplace=True)\n",
    "keyword_data['Suggested bid'].fillna(0.01, inplace=True)\n",
    "\n",
    "# Search volume mapping\n",
    "keyword_data['Search volume'].unique()\n",
    "keyword_data['Search volume'].replace(['1K – 10K', '100 – 1K', '10 – 100', '0'],[3,4,2,1], inplace=True)\n",
    "keyword_data.head()"
   ]
  },
  {
   "cell_type": "markdown",
   "metadata": {},
   "source": [
    "The plots below show the distributions of the keyword (search query) metadata. Unfortunately, no data was available for about half of the keywords (too little search volume in general), giving us a slightly skewed distribution."
   ]
  },
  {
   "cell_type": "code",
   "execution_count": 148,
   "metadata": {
    "collapsed": false
   },
   "outputs": [
    {
     "data": {
      "text/plain": [
       "<matplotlib.axes._subplots.AxesSubplot at 0x171d2125b70>"
      ]
     },
     "execution_count": 148,
     "metadata": {},
     "output_type": "execute_result"
    },
    {
     "data": {
      "image/png": "[encoded data removed]",
      "text/plain": [
       "<matplotlib.figure.Figure at 0x171d2145a20>"
      ]
     },
     "metadata": {},
     "output_type": "display_data"
    }
   ],
   "source": [
    "# Plotting the distribution of values\n",
    "keyword_data['Search volume'].hist()"
   ]
  },
  {
   "cell_type": "code",
   "execution_count": 149,
   "metadata": {
    "collapsed": false
   },
   "outputs": [
    {
     "name": "stdout",
     "output_type": "stream",
     "text": [
      "Axes(0.125,0.125;0.775x0.775)\n"
     ]
    },
    {
     "data": {
      "image/png": "[encoded data removed]",
      "text/plain": [
       "<matplotlib.figure.Figure at 0x171d20dea58>"
      ]
     },
     "metadata": {},
     "output_type": "display_data"
    }
   ],
   "source": [
    "print(keyword_data['Competition'].hist())"
   ]
  },
  {
   "cell_type": "code",
   "execution_count": 150,
   "metadata": {
    "collapsed": false
   },
   "outputs": [
    {
     "name": "stdout",
     "output_type": "stream",
     "text": [
      "Axes(0.125,0.125;0.775x0.775)\n"
     ]
    },
    {
     "data": {
      "image/png": "[encoded data removed]",
      "text/plain": [
       "<matplotlib.figure.Figure at 0x171d20a9710>"
      ]
     },
     "metadata": {},
     "output_type": "display_data"
    }
   ],
   "source": [
    "print(keyword_data['Suggested bid'].hist())"
   ]
  },
  {
   "cell_type": "markdown",
   "metadata": {},
   "source": [
    "Having cleaned the keyword metadata, we now procede to weight the rankings with the new data. We take the previous ranking \"inv_rank\" and multiply it with our new data to weight each ranking. We call the new column \"weighted_in_rank\"."
   ]
  },
  {
   "cell_type": "code",
   "execution_count": 151,
   "metadata": {
    "collapsed": false
   },
   "outputs": [
    {
     "data": {
      "text/html": [
       "<div>\n",
       "<table border=\"1\" class=\"dataframe\">\n",
       "  <thead>\n",
       "    <tr style=\"text-align: right;\">\n",
       "      <th></th>\n",
       "      <th>rank</th>\n",
       "      <th>Keyword</th>\n",
       "      <th>domain</th>\n",
       "      <th>University</th>\n",
       "      <th>Country</th>\n",
       "      <th>inv_rank</th>\n",
       "      <th>Search volume</th>\n",
       "      <th>Competition</th>\n",
       "      <th>Suggested bid</th>\n",
       "      <th>weighted_inv_rank</th>\n",
       "    </tr>\n",
       "  </thead>\n",
       "  <tbody>\n",
       "    <tr>\n",
       "      <th>0</th>\n",
       "      <td>43</td>\n",
       "      <td>bachelor's degree in economics</td>\n",
       "      <td>www.au.dk</td>\n",
       "      <td>Aarhus University</td>\n",
       "      <td>Denmark</td>\n",
       "      <td>0.023256</td>\n",
       "      <td>4</td>\n",
       "      <td>0.17</td>\n",
       "      <td>3.56</td>\n",
       "      <td>5.629767</td>\n",
       "    </tr>\n",
       "    <tr>\n",
       "      <th>1</th>\n",
       "      <td>42</td>\n",
       "      <td>bachelor's degree in economics</td>\n",
       "      <td>www.au.dk</td>\n",
       "      <td>Aarhus University</td>\n",
       "      <td>Denmark</td>\n",
       "      <td>0.023810</td>\n",
       "      <td>4</td>\n",
       "      <td>0.17</td>\n",
       "      <td>3.56</td>\n",
       "      <td>5.763810</td>\n",
       "    </tr>\n",
       "    <tr>\n",
       "      <th>2</th>\n",
       "      <td>75</td>\n",
       "      <td>bachelor's degree in economics</td>\n",
       "      <td>www.anu.edu.au</td>\n",
       "      <td>Australian National University</td>\n",
       "      <td>Australia</td>\n",
       "      <td>0.013333</td>\n",
       "      <td>4</td>\n",
       "      <td>0.17</td>\n",
       "      <td>3.56</td>\n",
       "      <td>3.227733</td>\n",
       "    </tr>\n",
       "    <tr>\n",
       "      <th>3</th>\n",
       "      <td>62</td>\n",
       "      <td>bachelor's degree in economics</td>\n",
       "      <td>www.concordia.ca</td>\n",
       "      <td>Concordia University</td>\n",
       "      <td>Canada</td>\n",
       "      <td>0.016129</td>\n",
       "      <td>4</td>\n",
       "      <td>0.17</td>\n",
       "      <td>3.56</td>\n",
       "      <td>3.904516</td>\n",
       "    </tr>\n",
       "    <tr>\n",
       "      <th>4</th>\n",
       "      <td>61</td>\n",
       "      <td>bachelor's degree in economics</td>\n",
       "      <td>www.concordia.ca</td>\n",
       "      <td>Concordia University</td>\n",
       "      <td>Canada</td>\n",
       "      <td>0.016393</td>\n",
       "      <td>4</td>\n",
       "      <td>0.17</td>\n",
       "      <td>3.56</td>\n",
       "      <td>3.968525</td>\n",
       "    </tr>\n",
       "  </tbody>\n",
       "</table>\n",
       "</div>"
      ],
      "text/plain": [
       "   rank                         Keyword            domain  \\\n",
       "0    43  bachelor's degree in economics         www.au.dk   \n",
       "1    42  bachelor's degree in economics         www.au.dk   \n",
       "2    75  bachelor's degree in economics    www.anu.edu.au   \n",
       "3    62  bachelor's degree in economics  www.concordia.ca   \n",
       "4    61  bachelor's degree in economics  www.concordia.ca   \n",
       "\n",
       "                       University    Country  inv_rank  Search volume  \\\n",
       "0               Aarhus University    Denmark  0.023256              4   \n",
       "1               Aarhus University    Denmark  0.023810              4   \n",
       "2  Australian National University  Australia  0.013333              4   \n",
       "3            Concordia University     Canada  0.016129              4   \n",
       "4            Concordia University     Canada  0.016393              4   \n",
       "\n",
       "   Competition  Suggested bid  weighted_inv_rank  \n",
       "0         0.17           3.56           5.629767  \n",
       "1         0.17           3.56           5.763810  \n",
       "2         0.17           3.56           3.227733  \n",
       "3         0.17           3.56           3.904516  \n",
       "4         0.17           3.56           3.968525  "
      ]
     },
     "execution_count": 151,
     "metadata": {},
     "output_type": "execute_result"
    }
   ],
   "source": [
    "# weighting the rankings with keyword data\n",
    "coef_search_volume = 1\n",
    "coef_competition = 10\n",
    "coef_suggested_bid = 10\n",
    "rankings_seo_data = rankings.merge(keyword_data, on='Keyword')\n",
    "rankings_seo_data['weighted_inv_rank']=rankings_seo_data['inv_rank']*coef_search_volume*rankings_seo_data['Search volume']*coef_competition*rankings_seo_data['Competition']*coef_suggested_bid*rankings_seo_data['Suggested bid']\n",
    "# print(rankings_seo_data['weighted_inv_rank'].describe())\n",
    "rankings_seo_data.head()"
   ]
  },
  {
   "cell_type": "markdown",
   "metadata": {},
   "source": [
    "# Ranking with keyword metadata weighting"
   ]
  },
  {
   "cell_type": "code",
   "execution_count": 152,
   "metadata": {
    "collapsed": false
   },
   "outputs": [
    {
     "data": {
      "text/html": [
       "<div>\n",
       "<table border=\"1\" class=\"dataframe\">\n",
       "  <thead>\n",
       "    <tr style=\"text-align: right;\">\n",
       "      <th></th>\n",
       "      <th></th>\n",
       "      <th>rank</th>\n",
       "      <th>inv_rank</th>\n",
       "      <th>Search volume</th>\n",
       "      <th>Competition</th>\n",
       "      <th>Suggested bid</th>\n",
       "      <th>weighted_inv_rank</th>\n",
       "      <th>count</th>\n",
       "    </tr>\n",
       "    <tr>\n",
       "      <th>University</th>\n",
       "      <th>Country</th>\n",
       "      <th></th>\n",
       "      <th></th>\n",
       "      <th></th>\n",
       "      <th></th>\n",
       "      <th></th>\n",
       "      <th></th>\n",
       "      <th></th>\n",
       "    </tr>\n",
       "  </thead>\n",
       "  <tbody>\n",
       "    <tr>\n",
       "      <th>Southern New Hampshire University</th>\n",
       "      <th>New Hampshire</th>\n",
       "      <td>424</td>\n",
       "      <td>6.794156</td>\n",
       "      <td>81</td>\n",
       "      <td>14.56</td>\n",
       "      <td>445.16</td>\n",
       "      <td>15722.949709</td>\n",
       "      <td>27</td>\n",
       "    </tr>\n",
       "    <tr>\n",
       "      <th>Rasmussen College, Florida Campuses</th>\n",
       "      <th>Florida</th>\n",
       "      <td>416</td>\n",
       "      <td>1.780321</td>\n",
       "      <td>36</td>\n",
       "      <td>6.13</td>\n",
       "      <td>261.42</td>\n",
       "      <td>10115.081931</td>\n",
       "      <td>12</td>\n",
       "    </tr>\n",
       "    <tr>\n",
       "      <th>University of Phoenix</th>\n",
       "      <th>Arizona</th>\n",
       "      <td>555</td>\n",
       "      <td>3.060534</td>\n",
       "      <td>52</td>\n",
       "      <td>9.60</td>\n",
       "      <td>376.68</td>\n",
       "      <td>8118.582831</td>\n",
       "      <td>20</td>\n",
       "    </tr>\n",
       "    <tr>\n",
       "      <th>Capella University</th>\n",
       "      <th>Minnesota</th>\n",
       "      <td>685</td>\n",
       "      <td>2.695119</td>\n",
       "      <td>80</td>\n",
       "      <td>12.45</td>\n",
       "      <td>395.88</td>\n",
       "      <td>7963.366588</td>\n",
       "      <td>24</td>\n",
       "    </tr>\n",
       "    <tr>\n",
       "      <th>Boston University</th>\n",
       "      <th>Massachusetts</th>\n",
       "      <td>2440</td>\n",
       "      <td>14.034576</td>\n",
       "      <td>248</td>\n",
       "      <td>23.06</td>\n",
       "      <td>701.96</td>\n",
       "      <td>7388.864773</td>\n",
       "      <td>79</td>\n",
       "    </tr>\n",
       "  </tbody>\n",
       "</table>\n",
       "</div>"
      ],
      "text/plain": [
       "                                                   rank   inv_rank  \\\n",
       "University                          Country                          \n",
       "Southern New Hampshire University   New Hampshire   424   6.794156   \n",
       "Rasmussen College, Florida Campuses Florida         416   1.780321   \n",
       "University of Phoenix               Arizona         555   3.060534   \n",
       "Capella University                  Minnesota       685   2.695119   \n",
       "Boston University                   Massachusetts  2440  14.034576   \n",
       "\n",
       "                                                   Search volume  Competition  \\\n",
       "University                          Country                                     \n",
       "Southern New Hampshire University   New Hampshire             81        14.56   \n",
       "Rasmussen College, Florida Campuses Florida                   36         6.13   \n",
       "University of Phoenix               Arizona                   52         9.60   \n",
       "Capella University                  Minnesota                 80        12.45   \n",
       "Boston University                   Massachusetts            248        23.06   \n",
       "\n",
       "                                                   Suggested bid  \\\n",
       "University                          Country                        \n",
       "Southern New Hampshire University   New Hampshire         445.16   \n",
       "Rasmussen College, Florida Campuses Florida               261.42   \n",
       "University of Phoenix               Arizona               376.68   \n",
       "Capella University                  Minnesota             395.88   \n",
       "Boston University                   Massachusetts         701.96   \n",
       "\n",
       "                                                   weighted_inv_rank  count  \n",
       "University                          Country                                  \n",
       "Southern New Hampshire University   New Hampshire       15722.949709     27  \n",
       "Rasmussen College, Florida Campuses Florida             10115.081931     12  \n",
       "University of Phoenix               Arizona              8118.582831     20  \n",
       "Capella University                  Minnesota            7963.366588     24  \n",
       "Boston University                   Massachusetts        7388.864773     79  "
      ]
     },
     "execution_count": 152,
     "metadata": {},
     "output_type": "execute_result"
    }
   ],
   "source": [
    "#calculating the new keyword ranking\n",
    "rankings_seo_data['count']=1\n",
    "rankings_seo_data_grouped = rankings_seo_data.groupby(['University','Country']).sum().sort_values(['weighted_inv_rank'], ascending=False)\n",
    "rankings_seo_data_grouped.head()"
   ]
  },
  {
   "cell_type": "markdown",
   "metadata": {},
   "source": [
    "# Effect of weighting by keyword metadata"
   ]
  },
  {
   "cell_type": "markdown",
   "metadata": {},
   "source": [
    "We would like to see how much effect on the rankings our weighted procedures have. To do this, we produce a table where we show the ranking of each university under each of the three different methodology we have used so far. \n",
    "\n",
    "To recap the first (count) was simply counting the net number of appearances of a university over all keywords, the second (inv_rank) was pondering with search rankings, and the third (weighted_inv_rank) is pondering with search rankings and with keyword metadata.\n",
    "\n",
    "We also calculate the difference between weighted_inv_rank and inv_rank to see how much the rankings change by."
   ]
  },
  {
   "cell_type": "code",
   "execution_count": 164,
   "metadata": {
    "collapsed": false
   },
   "outputs": [
    {
     "data": {
      "text/html": [
       "<div>\n",
       "<table border=\"1\" class=\"dataframe\">\n",
       "  <thead>\n",
       "    <tr style=\"text-align: right;\">\n",
       "      <th></th>\n",
       "      <th></th>\n",
       "      <th>count</th>\n",
       "      <th>inv_rank</th>\n",
       "      <th>weighted_inv_rank</th>\n",
       "      <th>diff</th>\n",
       "    </tr>\n",
       "    <tr>\n",
       "      <th>University</th>\n",
       "      <th>Country</th>\n",
       "      <th></th>\n",
       "      <th></th>\n",
       "      <th></th>\n",
       "      <th></th>\n",
       "    </tr>\n",
       "  </thead>\n",
       "  <tbody>\n",
       "    <tr>\n",
       "      <th>Southern New Hampshire University</th>\n",
       "      <th>New Hampshire</th>\n",
       "      <td>85.5</td>\n",
       "      <td>4.0</td>\n",
       "      <td>1.0</td>\n",
       "      <td>-3.0</td>\n",
       "    </tr>\n",
       "    <tr>\n",
       "      <th>Rasmussen College, Florida Campuses</th>\n",
       "      <th>Florida</th>\n",
       "      <td>202.5</td>\n",
       "      <td>48.0</td>\n",
       "      <td>2.0</td>\n",
       "      <td>-46.0</td>\n",
       "    </tr>\n",
       "    <tr>\n",
       "      <th>University of Phoenix</th>\n",
       "      <th>Arizona</th>\n",
       "      <td>130.5</td>\n",
       "      <td>19.0</td>\n",
       "      <td>3.0</td>\n",
       "      <td>-16.0</td>\n",
       "    </tr>\n",
       "    <tr>\n",
       "      <th>Capella University</th>\n",
       "      <th>Minnesota</th>\n",
       "      <td>100.0</td>\n",
       "      <td>24.0</td>\n",
       "      <td>4.0</td>\n",
       "      <td>-20.0</td>\n",
       "    </tr>\n",
       "    <tr>\n",
       "      <th>Boston University</th>\n",
       "      <th>Massachusetts</th>\n",
       "      <td>1.0</td>\n",
       "      <td>1.0</td>\n",
       "      <td>5.0</td>\n",
       "      <td>4.0</td>\n",
       "    </tr>\n",
       "  </tbody>\n",
       "</table>\n",
       "</div>"
      ],
      "text/plain": [
       "                                                   count  inv_rank  \\\n",
       "University                          Country                          \n",
       "Southern New Hampshire University   New Hampshire   85.5       4.0   \n",
       "Rasmussen College, Florida Campuses Florida        202.5      48.0   \n",
       "University of Phoenix               Arizona        130.5      19.0   \n",
       "Capella University                  Minnesota      100.0      24.0   \n",
       "Boston University                   Massachusetts    1.0       1.0   \n",
       "\n",
       "                                                   weighted_inv_rank  diff  \n",
       "University                          Country                                 \n",
       "Southern New Hampshire University   New Hampshire                1.0  -3.0  \n",
       "Rasmussen College, Florida Campuses Florida                      2.0 -46.0  \n",
       "University of Phoenix               Arizona                      3.0 -16.0  \n",
       "Capella University                  Minnesota                    4.0 -20.0  \n",
       "Boston University                   Massachusetts                5.0   4.0  "
      ]
     },
     "execution_count": 164,
     "metadata": {},
     "output_type": "execute_result"
    }
   ],
   "source": [
    "ranking_comp_table = rankings_seo_data_grouped.copy()\n",
    "ranking_comp_table['weighted_inv_rank'] = ranking_comp_table['weighted_inv_rank'].rank(ascending=False)\n",
    "ranking_comp_table['inv_rank'] = ranking_comp_table['inv_rank'].rank(ascending=False)\n",
    "ranking_comp_table['count'] = ranking_comp_table['count'].rank(ascending=False)\n",
    "ranking_comp_table['diff'] = ranking_comp_table['weighted_inv_rank'] - ranking_comp_table['inv_rank']\n",
    "ranking_comp_table.sort_values('weighted_inv_rank')[['count','inv_rank','weighted_inv_rank','diff']].head()"
   ]
  },
  {
   "cell_type": "markdown",
   "metadata": {},
   "source": [
    "See graph below for the distribution of \"diff\", i.e. how much the rankings change when we ponder using the keyword meta data.\n",
    "\n",
    "The majority of unversities are not much affected (diff = 0 approx), but we do notice that they are still are sizeable chunk of universities whose rankings vary quite a lot."
   ]
  },
  {
   "cell_type": "code",
   "execution_count": 166,
   "metadata": {
    "collapsed": false
   },
   "outputs": [
    {
     "data": {
      "text/plain": [
       "<matplotlib.axes._subplots.AxesSubplot at 0x171cf892e48>"
      ]
     },
     "execution_count": 166,
     "metadata": {},
     "output_type": "execute_result"
    },
    {
     "data": {
      "image/png": "[encoded data removed]",
      "text/plain": [
       "<matplotlib.figure.Figure at 0x171cf7295c0>"
      ]
     },
     "metadata": {},
     "output_type": "display_data"
    }
   ],
   "source": [
    "ranking_comp_table.sort_values('weighted_inv_rank')['diff'].hist()"
   ]
  },
  {
   "cell_type": "markdown",
   "metadata": {},
   "source": [
    "# Comparaison with traditional rankings"
   ]
  },
  {
   "cell_type": "markdown",
   "metadata": {},
   "source": [
    "We have chosen to compare our results with th Times Higher Education university ranking. We made this choice because the is the first result for the Google search query \"world university rankings\"."
   ]
  },
  {
   "cell_type": "code",
   "execution_count": null,
   "metadata": {
    "collapsed": true
   },
   "outputs": [],
   "source": []
  }
 ],
 "metadata": {
  "kernelspec": {
   "display_name": "Python 3",
   "language": "python",
   "name": "python3"
  },
  "language_info": {
   "codemirror_mode": {
    "name": "ipython",
    "version": 3
   },
   "file_extension": ".py",
   "mimetype": "text/x-python",
   "name": "python",
   "nbconvert_exporter": "python",
   "pygments_lexer": "ipython3",
   "version": "3.5.2"
  }
 },
 "nbformat": 4,
 "nbformat_minor": 0
}
