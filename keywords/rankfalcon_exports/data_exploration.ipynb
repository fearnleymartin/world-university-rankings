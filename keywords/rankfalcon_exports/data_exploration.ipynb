{
 "cells": [
  {
   "cell_type": "code",
   "execution_count": 1,
   "metadata": {
    "collapsed": true
   },
   "outputs": [],
   "source": [
    "%matplotlib inline\n",
    "import pandas as pd\n",
    "import numpy as np"
   ]
  },
  {
   "cell_type": "markdown",
   "metadata": {},
   "source": [
    "# Loading data"
   ]
  },
  {
   "cell_type": "code",
   "execution_count": 11,
   "metadata": {
    "collapsed": false
   },
   "outputs": [
    {
     "data": {
      "text/html": [
       "<div>\n",
       "<table border=\"1\" class=\"dataframe\">\n",
       "  <thead>\n",
       "    <tr style=\"text-align: right;\">\n",
       "      <th></th>\n",
       "      <th>rank</th>\n",
       "      <th>keyword</th>\n",
       "      <th>domain</th>\n",
       "      <th>University</th>\n",
       "      <th>Country</th>\n",
       "    </tr>\n",
       "  </thead>\n",
       "  <tbody>\n",
       "    <tr>\n",
       "      <th>0</th>\n",
       "      <td>43</td>\n",
       "      <td>bachelor's degree in Economics</td>\n",
       "      <td>www.au.dk</td>\n",
       "      <td>Aarhus University</td>\n",
       "      <td>Denmark</td>\n",
       "    </tr>\n",
       "    <tr>\n",
       "      <th>1</th>\n",
       "      <td>42</td>\n",
       "      <td>bachelor's degree in Economics</td>\n",
       "      <td>www.au.dk</td>\n",
       "      <td>Aarhus University</td>\n",
       "      <td>Denmark</td>\n",
       "    </tr>\n",
       "    <tr>\n",
       "      <th>2</th>\n",
       "      <td>91</td>\n",
       "      <td>bachelor's degree in English Language</td>\n",
       "      <td>www.au.dk</td>\n",
       "      <td>Aarhus University</td>\n",
       "      <td>Denmark</td>\n",
       "    </tr>\n",
       "    <tr>\n",
       "      <th>3</th>\n",
       "      <td>29</td>\n",
       "      <td>bachelor's degree in Archaeology</td>\n",
       "      <td>www.au.dk</td>\n",
       "      <td>Aarhus University</td>\n",
       "      <td>Denmark</td>\n",
       "    </tr>\n",
       "    <tr>\n",
       "      <th>4</th>\n",
       "      <td>7</td>\n",
       "      <td>bachelor's degree in Business &amp; Commercial Law</td>\n",
       "      <td>www.au.dk</td>\n",
       "      <td>Aarhus University</td>\n",
       "      <td>Denmark</td>\n",
       "    </tr>\n",
       "  </tbody>\n",
       "</table>\n",
       "</div>"
      ],
      "text/plain": [
       "   rank                                         keyword     domain  \\\n",
       "0    43                  bachelor's degree in Economics  www.au.dk   \n",
       "1    42                  bachelor's degree in Economics  www.au.dk   \n",
       "2    91           bachelor's degree in English Language  www.au.dk   \n",
       "3    29                bachelor's degree in Archaeology  www.au.dk   \n",
       "4     7  bachelor's degree in Business & Commercial Law  www.au.dk   \n",
       "\n",
       "          University  Country  \n",
       "0  Aarhus University  Denmark  \n",
       "1  Aarhus University  Denmark  \n",
       "2  Aarhus University  Denmark  \n",
       "3  Aarhus University  Denmark  \n",
       "4  Aarhus University  Denmark  "
      ]
     },
     "execution_count": 11,
     "metadata": {},
     "output_type": "execute_result"
    }
   ],
   "source": [
    "keywords = pd.read_csv('keywords.csv')\n",
    "sites = pd.read_csv('sites.csv')\n",
    "rankings = pd.read_csv('rankings.csv')\n",
    "universities = pd.read_csv('../../universities/university_list_countries.csv')\n",
    "keyword_data = pd.read_csv('../Keyword Planner type 1 2017-01-09 at 01-28-48.csv', sep='\\t')\n",
    "\n",
    "rankings = rankings.merge(keywords, on='id_keyword')\n",
    "rankings = rankings.merge(sites, on='id_site')\n",
    "rankings = rankings.merge(universities, left_on='domain', right_on='Website')\n",
    "rankings = rankings[['rank','keyword', 'domain', 'University', 'Country']]\n",
    "rankings = rankings.drop_duplicates()  # Note the data is dirty and contains about 10000 duplicates\n",
    "rankings.head()"
   ]
  },
  {
   "cell_type": "markdown",
   "metadata": {},
   "source": [
    "Each entry represents an appeareance of the given university domain amoung the first 100 Google search results obtained with the corresponding query (keyword). The rank is the position the university appeared on the results page."
   ]
  },
  {
   "cell_type": "markdown",
   "metadata": {},
   "source": [
    "# Initial data exploration"
   ]
  },
  {
   "cell_type": "code",
   "execution_count": 46,
   "metadata": {
    "collapsed": false
   },
   "outputs": [
    {
     "data": {
      "text/plain": [
       "count           24491\n",
       "unique           1448\n",
       "top       www.asu.edu\n",
       "freq              223\n",
       "Name: domain, dtype: object"
      ]
     },
     "execution_count": 46,
     "metadata": {},
     "output_type": "execute_result"
    }
   ],
   "source": [
    "rankings.domain.describe()"
   ]
  },
  {
   "cell_type": "code",
   "execution_count": 47,
   "metadata": {
    "collapsed": false
   },
   "outputs": [
    {
     "data": {
      "text/plain": [
       "id_site    9260\n",
       "domain     9258\n",
       "dtype: int64"
      ]
     },
     "execution_count": 47,
     "metadata": {},
     "output_type": "execute_result"
    }
   ],
   "source": [
    "sites.count()"
   ]
  },
  {
   "cell_type": "markdown",
   "metadata": {},
   "source": [
    "We see that 1448 / 9260 of the universities considered appear at least once in the google search results. Seen under a different light, this means that 7812 universities are hardly visible on the web...\n",
    "\n",
    "With unweighted results we see the ase.edu (Arizona state university) appears the most (for 223 keywords out of a possible 339)"
   ]
  },
  {
   "cell_type": "markdown",
   "metadata": {},
   "source": [
    "We can see which universities are the most present in Google search results simply by seeing on how many queries they appear (see following table).\n",
    "\n",
    "Next steps will be:\n",
    "- weight the result with the rank attribute\n",
    "- weight the keywords with search volume and cpc\n",
    "- divide rankings into categories (degree type, subject, country etc..)"
   ]
  },
  {
   "cell_type": "code",
   "execution_count": 49,
   "metadata": {
    "collapsed": false
   },
   "outputs": [
    {
     "data": {
      "text/plain": [
       "Arizona State University         223\n",
       "Boston University                209\n",
       "New York University              194\n",
       "Stanford University              180\n",
       "Pennsylvania State University    174\n",
       "Name: University, dtype: int64"
      ]
     },
     "execution_count": 49,
     "metadata": {},
     "output_type": "execute_result"
    }
   ],
   "source": [
    "rankings.University.value_counts().head()"
   ]
  },
  {
   "cell_type": "code",
   "execution_count": 51,
   "metadata": {
    "collapsed": true
   },
   "outputs": [],
   "source": [
    "rankings.University.value_counts().to_csv('unweighted_ranking.csv')"
   ]
  },
  {
   "cell_type": "markdown",
   "metadata": {
    "collapsed": true
   },
   "source": [
    "# Keyword data"
   ]
  },
  {
   "cell_type": "code",
   "execution_count": 12,
   "metadata": {
    "collapsed": false
   },
   "outputs": [
    {
     "data": {
      "text/html": [
       "<div>\n",
       "<table border=\"1\" class=\"dataframe\">\n",
       "  <thead>\n",
       "    <tr style=\"text-align: right;\">\n",
       "      <th></th>\n",
       "      <th>Keyword</th>\n",
       "      <th>Avg. Monthly Searches (exact match only)</th>\n",
       "      <th>Competition</th>\n",
       "      <th>Suggested bid</th>\n",
       "    </tr>\n",
       "  </thead>\n",
       "  <tbody>\n",
       "    <tr>\n",
       "      <th>0</th>\n",
       "      <td>phd in management</td>\n",
       "      <td>1K – 10K</td>\n",
       "      <td>0.29</td>\n",
       "      <td>3.62</td>\n",
       "    </tr>\n",
       "    <tr>\n",
       "      <th>1</th>\n",
       "      <td>phd in psychology</td>\n",
       "      <td>1K – 10K</td>\n",
       "      <td>0.55</td>\n",
       "      <td>24.62</td>\n",
       "    </tr>\n",
       "    <tr>\n",
       "      <th>2</th>\n",
       "      <td>phd in economics</td>\n",
       "      <td>1K – 10K</td>\n",
       "      <td>0.15</td>\n",
       "      <td>2.70</td>\n",
       "    </tr>\n",
       "    <tr>\n",
       "      <th>3</th>\n",
       "      <td>phd in germany</td>\n",
       "      <td>1K – 10K</td>\n",
       "      <td>0.26</td>\n",
       "      <td>0.98</td>\n",
       "    </tr>\n",
       "    <tr>\n",
       "      <th>4</th>\n",
       "      <td>phd in law</td>\n",
       "      <td>1K – 10K</td>\n",
       "      <td>0.18</td>\n",
       "      <td>3.28</td>\n",
       "    </tr>\n",
       "  </tbody>\n",
       "</table>\n",
       "</div>"
      ],
      "text/plain": [
       "             Keyword Avg. Monthly Searches (exact match only)  Competition  \\\n",
       "0  phd in management                                 1K – 10K         0.29   \n",
       "1  phd in psychology                                 1K – 10K         0.55   \n",
       "2   phd in economics                                 1K – 10K         0.15   \n",
       "3     phd in germany                                 1K – 10K         0.26   \n",
       "4         phd in law                                 1K – 10K         0.18   \n",
       "\n",
       "   Suggested bid  \n",
       "0           3.62  \n",
       "1          24.62  \n",
       "2           2.70  \n",
       "3           0.98  \n",
       "4           3.28  "
      ]
     },
     "execution_count": 12,
     "metadata": {},
     "output_type": "execute_result"
    }
   ],
   "source": [
    "keyword_data.head()"
   ]
  },
  {
   "cell_type": "markdown",
   "metadata": {},
   "source": [
    "# Aggregating"
   ]
  },
  {
   "cell_type": "markdown",
   "metadata": {},
   "source": [
    "We invert the rank because a higher rank is better (i.e. ranking first is better than ranking 99th). We need to make sure this is reflected in the weighting.\n",
    "We then weight our rankings depending on where the university came in the the search results for each query."
   ]
  },
  {
   "cell_type": "code",
   "execution_count": 26,
   "metadata": {
    "collapsed": false
   },
   "outputs": [
    {
     "data": {
      "text/html": [
       "<div>\n",
       "<table border=\"1\" class=\"dataframe\">\n",
       "  <thead>\n",
       "    <tr style=\"text-align: right;\">\n",
       "      <th></th>\n",
       "      <th>rank</th>\n",
       "      <th>keyword</th>\n",
       "      <th>domain</th>\n",
       "      <th>University</th>\n",
       "      <th>Country</th>\n",
       "      <th>inv_rank</th>\n",
       "    </tr>\n",
       "  </thead>\n",
       "  <tbody>\n",
       "    <tr>\n",
       "      <th>0</th>\n",
       "      <td>43</td>\n",
       "      <td>bachelor's degree in Economics</td>\n",
       "      <td>www.au.dk</td>\n",
       "      <td>Aarhus University</td>\n",
       "      <td>Denmark</td>\n",
       "      <td>0.023256</td>\n",
       "    </tr>\n",
       "    <tr>\n",
       "      <th>1</th>\n",
       "      <td>42</td>\n",
       "      <td>bachelor's degree in Economics</td>\n",
       "      <td>www.au.dk</td>\n",
       "      <td>Aarhus University</td>\n",
       "      <td>Denmark</td>\n",
       "      <td>0.023810</td>\n",
       "    </tr>\n",
       "    <tr>\n",
       "      <th>2</th>\n",
       "      <td>91</td>\n",
       "      <td>bachelor's degree in English Language</td>\n",
       "      <td>www.au.dk</td>\n",
       "      <td>Aarhus University</td>\n",
       "      <td>Denmark</td>\n",
       "      <td>0.010989</td>\n",
       "    </tr>\n",
       "    <tr>\n",
       "      <th>3</th>\n",
       "      <td>29</td>\n",
       "      <td>bachelor's degree in Archaeology</td>\n",
       "      <td>www.au.dk</td>\n",
       "      <td>Aarhus University</td>\n",
       "      <td>Denmark</td>\n",
       "      <td>0.034483</td>\n",
       "    </tr>\n",
       "    <tr>\n",
       "      <th>4</th>\n",
       "      <td>7</td>\n",
       "      <td>bachelor's degree in Business &amp; Commercial Law</td>\n",
       "      <td>www.au.dk</td>\n",
       "      <td>Aarhus University</td>\n",
       "      <td>Denmark</td>\n",
       "      <td>0.142857</td>\n",
       "    </tr>\n",
       "  </tbody>\n",
       "</table>\n",
       "</div>"
      ],
      "text/plain": [
       "   rank                                         keyword     domain  \\\n",
       "0    43                  bachelor's degree in Economics  www.au.dk   \n",
       "1    42                  bachelor's degree in Economics  www.au.dk   \n",
       "2    91           bachelor's degree in English Language  www.au.dk   \n",
       "3    29                bachelor's degree in Archaeology  www.au.dk   \n",
       "4     7  bachelor's degree in Business & Commercial Law  www.au.dk   \n",
       "\n",
       "          University  Country  inv_rank  \n",
       "0  Aarhus University  Denmark  0.023256  \n",
       "1  Aarhus University  Denmark  0.023810  \n",
       "2  Aarhus University  Denmark  0.010989  \n",
       "3  Aarhus University  Denmark  0.034483  \n",
       "4  Aarhus University  Denmark  0.142857  "
      ]
     },
     "execution_count": 26,
     "metadata": {},
     "output_type": "execute_result"
    }
   ],
   "source": [
    "rankings['inv_rank'] = rankings['rank'].apply(lambda x: 1./x)\n",
    "rankings.head()"
   ]
  },
  {
   "cell_type": "code",
   "execution_count": 41,
   "metadata": {
    "collapsed": false
   },
   "outputs": [],
   "source": [
    "grouped_rankings = rankings.groupby(['University','Country'])"
   ]
  },
  {
   "cell_type": "code",
   "execution_count": 60,
   "metadata": {
    "collapsed": false
   },
   "outputs": [
    {
     "data": {
      "text/html": [
       "<div>\n",
       "<table border=\"1\" class=\"dataframe\">\n",
       "  <thead>\n",
       "    <tr style=\"text-align: right;\">\n",
       "      <th></th>\n",
       "      <th></th>\n",
       "      <th>rank</th>\n",
       "      <th>inv_rank</th>\n",
       "    </tr>\n",
       "    <tr>\n",
       "      <th>University</th>\n",
       "      <th>Country</th>\n",
       "      <th></th>\n",
       "      <th></th>\n",
       "    </tr>\n",
       "  </thead>\n",
       "  <tbody>\n",
       "    <tr>\n",
       "      <th>Boston University</th>\n",
       "      <th>Massachusetts</th>\n",
       "      <td>7547</td>\n",
       "      <td>25.329307</td>\n",
       "    </tr>\n",
       "    <tr>\n",
       "      <th>New York University</th>\n",
       "      <th>New York</th>\n",
       "      <td>7445</td>\n",
       "      <td>15.952792</td>\n",
       "    </tr>\n",
       "    <tr>\n",
       "      <th>Stanford University</th>\n",
       "      <th>California</th>\n",
       "      <td>6479</td>\n",
       "      <td>15.136372</td>\n",
       "    </tr>\n",
       "    <tr>\n",
       "      <th>Southern New Hampshire University</th>\n",
       "      <th>New Hampshire</th>\n",
       "      <td>2788</td>\n",
       "      <td>14.145092</td>\n",
       "    </tr>\n",
       "    <tr>\n",
       "      <th>Columbia University</th>\n",
       "      <th>New York</th>\n",
       "      <td>4861</td>\n",
       "      <td>14.031654</td>\n",
       "    </tr>\n",
       "  </tbody>\n",
       "</table>\n",
       "</div>"
      ],
      "text/plain": [
       "                                                 rank   inv_rank\n",
       "University                        Country                       \n",
       "Boston University                 Massachusetts  7547  25.329307\n",
       "New York University               New York       7445  15.952792\n",
       "Stanford University               California     6479  15.136372\n",
       "Southern New Hampshire University New Hampshire  2788  14.145092\n",
       "Columbia University               New York       4861  14.031654"
      ]
     },
     "execution_count": 60,
     "metadata": {},
     "output_type": "execute_result"
    }
   ],
   "source": [
    "grouped_weighted_rankings = grouped_rankings.sum().sort_values(['inv_rank'], ascending=False)\n",
    "grouped_weighted_rankings.head()"
   ]
  },
  {
   "cell_type": "markdown",
   "metadata": {},
   "source": [
    "Above is a weighted ranking of the universities"
   ]
  },
  {
   "cell_type": "code",
   "execution_count": 67,
   "metadata": {
    "collapsed": false
   },
   "outputs": [],
   "source": [
    "grouped_weighted_rankings.to_csv('weighted_rankings.csv', encoding='utf-8')"
   ]
  },
  {
   "cell_type": "markdown",
   "metadata": {},
   "source": [
    "# Country by country"
   ]
  },
  {
   "cell_type": "code",
   "execution_count": 69,
   "metadata": {
    "collapsed": false
   },
   "outputs": [
    {
     "data": {
      "text/html": [
       "<div>\n",
       "<table border=\"1\" class=\"dataframe\">\n",
       "  <thead>\n",
       "    <tr style=\"text-align: right;\">\n",
       "      <th></th>\n",
       "      <th>University</th>\n",
       "      <th>Country</th>\n",
       "      <th>rank</th>\n",
       "      <th>inv_rank</th>\n",
       "    </tr>\n",
       "  </thead>\n",
       "  <tbody>\n",
       "    <tr>\n",
       "      <th>0</th>\n",
       "      <td>Boston University</td>\n",
       "      <td>Massachusetts</td>\n",
       "      <td>7547</td>\n",
       "      <td>25.329307</td>\n",
       "    </tr>\n",
       "    <tr>\n",
       "      <th>1</th>\n",
       "      <td>New York University</td>\n",
       "      <td>New York</td>\n",
       "      <td>7445</td>\n",
       "      <td>15.952792</td>\n",
       "    </tr>\n",
       "    <tr>\n",
       "      <th>2</th>\n",
       "      <td>Stanford University</td>\n",
       "      <td>California</td>\n",
       "      <td>6479</td>\n",
       "      <td>15.136372</td>\n",
       "    </tr>\n",
       "    <tr>\n",
       "      <th>3</th>\n",
       "      <td>Southern New Hampshire University</td>\n",
       "      <td>New Hampshire</td>\n",
       "      <td>2788</td>\n",
       "      <td>14.145092</td>\n",
       "    </tr>\n",
       "    <tr>\n",
       "      <th>4</th>\n",
       "      <td>Columbia University</td>\n",
       "      <td>New York</td>\n",
       "      <td>4861</td>\n",
       "      <td>14.031654</td>\n",
       "    </tr>\n",
       "  </tbody>\n",
       "</table>\n",
       "</div>"
      ],
      "text/plain": [
       "                          University        Country  rank   inv_rank\n",
       "0                  Boston University  Massachusetts  7547  25.329307\n",
       "1                New York University       New York  7445  15.952792\n",
       "2                Stanford University     California  6479  15.136372\n",
       "3  Southern New Hampshire University  New Hampshire  2788  14.145092\n",
       "4                Columbia University       New York  4861  14.031654"
      ]
     },
     "execution_count": 69,
     "metadata": {},
     "output_type": "execute_result"
    }
   ],
   "source": [
    "weighted_rankings = pd.read_csv('weighted_rankings.csv', encoding='utf-8')\n",
    "weighted_rankings.head()"
   ]
  },
  {
   "cell_type": "code",
   "execution_count": 97,
   "metadata": {
    "collapsed": false
   },
   "outputs": [
    {
     "name": "stdout",
     "output_type": "stream",
     "text": [
      "51\n"
     ]
    },
    {
     "data": {
      "text/plain": [
       "United States of America    898\n",
       "United Kingdom               93\n",
       "Canada                       55\n",
       "Germany                      40\n",
       "Australia                    33\n",
       "Italy                        30\n",
       "Spain                        20\n",
       "France                       17\n",
       "China                        14\n",
       "Netherlands                  14\n",
       "Sweden                       13\n",
       "South Africa                 12\n",
       "India                        12\n",
       "Malaysia                     12\n",
       "Pakistan                     11\n",
       "Ireland                      11\n",
       "Finland                       9\n",
       "Japan                         9\n",
       "Kenya                         8\n",
       "Austria                       8\n",
       "Name: Country, dtype: int64"
      ]
     },
     "execution_count": 97,
     "metadata": {},
     "output_type": "execute_result"
    }
   ],
   "source": [
    "states = ['New York', 'California', 'Pennsylvania', 'Texas', 'Massachusetts','Illinois','Ohio','Florida','Virginia','Michigan','North Carolina',\n",
    "         'Tennessee','Indiana','Wisconsin','Georgia','Missouri','Minnesota','Colorado','New Jersey','Alabama','Louisiana','Washington',\n",
    "         'Maryland','Oregon','Kentucky','Connecticut','Kansas','Nebraska','Oklahoma','South Carolina','Maine','Vermont','Mississippi',\n",
    "         'Rhode Island','Arizona','Arkansas','District of Columbia','Iowa','Utah','New Hampshire','South Dakota','Idaho','New Mexico',\n",
    "         'Delaware','Alaska','Hawaii', 'North Dakota', 'Wyoming','Montana','Nevada','West Virginia']\n",
    "print(len(states))\n",
    "weighted_rankings['Country'].replace(to_replace=states,value='United States of America').value_counts().head(20)"
   ]
  },
  {
   "cell_type": "code",
   "execution_count": 96,
   "metadata": {
    "collapsed": false
   },
   "outputs": [
    {
     "data": {
      "text/plain": [
       "(74,)"
      ]
     },
     "execution_count": 96,
     "metadata": {},
     "output_type": "execute_result"
    }
   ],
   "source": [
    "weighted_rankings.replace(to_replace=states,value='United States of America').groupby('Country').size().shape"
   ]
  },
  {
   "cell_type": "markdown",
   "metadata": {},
   "source": [
    "First observation: 74 countries make it onto our rankings.\n",
    "Second observation: Heavy dominance by US then english speaking countries. \n",
    "Up to here, all the queries have been made in English, so it's not surprising that the results are dominated by English speaking countries. Nevertheless many non native English universities often have websites in English, allowing them to rank. We might make adjustment in the future to balance out the playing field. However, we should note that other university rankings are heavily dominated by English speaking universities too."
   ]
  },
  {
   "cell_type": "markdown",
   "metadata": {},
   "source": [
    "# By degree type"
   ]
  },
  {
   "cell_type": "markdown",
   "metadata": {},
   "source": [
    "# Technical ranking"
   ]
  },
  {
   "cell_type": "markdown",
   "metadata": {},
   "source": [
    "# keyword weighting"
   ]
  },
  {
   "cell_type": "code",
   "execution_count": null,
   "metadata": {
    "collapsed": true
   },
   "outputs": [],
   "source": []
  }
 ],
 "metadata": {
  "kernelspec": {
   "display_name": "Python 3",
   "language": "python",
   "name": "python3"
  },
  "language_info": {
   "codemirror_mode": {
    "name": "ipython",
    "version": 3
   },
   "file_extension": ".py",
   "mimetype": "text/x-python",
   "name": "python",
   "nbconvert_exporter": "python",
   "pygments_lexer": "ipython3",
   "version": "3.5.2"
  }
 },
 "nbformat": 4,
 "nbformat_minor": 0
}
