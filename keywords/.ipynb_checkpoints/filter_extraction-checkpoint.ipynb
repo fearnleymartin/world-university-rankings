{
 "cells": [
  {
   "cell_type": "code",
   "execution_count": 1,
   "metadata": {
    "collapsed": true
   },
   "outputs": [],
   "source": [
    "import re"
   ]
  },
  {
   "cell_type": "code",
   "execution_count": 2,
   "metadata": {
    "collapsed": false
   },
   "outputs": [
    {
     "data": {
      "text/plain": [
       "339"
      ]
     },
     "execution_count": 2,
     "metadata": {},
     "output_type": "execute_result"
    }
   ],
   "source": [
    "f = open ('type1.txt').readlines ()\n",
    "len (f)"
   ]
  },
  {
   "cell_type": "code",
   "execution_count": 41,
   "metadata": {
    "collapsed": false
   },
   "outputs": [],
   "source": [
    "b = open ('bachelor_filters.txt', 'w', encoding = 'utf-8')\n",
    "m = open ('master_filters.txt', 'w', encoding = 'utf-8')\n",
    "p = open ('phd_filters.txt', 'w', encoding = 'utf-8')\n",
    "\n",
    "for l in f:\n",
    "    if 'bachelor' in l:\n",
    "        b.write (l.replace ('bachelor\\'s degree in ', ''))\n",
    "    elif 'master' in l:\n",
    "        m.write (l.replace ('master\\'s degree in ', ''))\n",
    "    elif 'phd' in l:\n",
    "        p.write (l.replace ('phd in ', ''))\n",
    "    else:\n",
    "        print ('not okay')\n",
    "\n",
    "b.close ()\n",
    "m.close ()\n",
    "p.close ()"
   ]
  },
  {
   "cell_type": "code",
   "execution_count": 13,
   "metadata": {
    "collapsed": true
   },
   "outputs": [],
   "source": [
    "b = []\n",
    "m = []\n",
    "p = []\n",
    "\n",
    "for l in f:\n",
    "    if 'bachelor' in l:\n",
    "        b.append (l.replace ('bachelor\\'s degree in ', '').replace ('\\n', ''))\n",
    "    elif 'master' in l:\n",
    "        m.append (l.replace ('master\\'s degree in ', '').replace ('\\n', ''))\n",
    "    elif 'phd' in l:\n",
    "        p.append (l.replace ('phd in ', '').replace ('\\n', ''))\n",
    "    else:\n",
    "        print ('not okay')\n",
    "        \n",
    "b = set (b)\n",
    "m = set (m)\n",
    "p = set (p)"
   ]
  },
  {
   "cell_type": "code",
   "execution_count": 14,
   "metadata": {
    "collapsed": false
   },
   "outputs": [
    {
     "name": "stdout",
     "output_type": "stream",
     "text": [
      "113 113 113 113 113\n"
     ]
    }
   ],
   "source": [
    "print (len (b.intersection (m)), len (b.intersection (p)), len (b), len (m), len (p))"
   ]
  },
  {
   "cell_type": "code",
   "execution_count": 12,
   "metadata": {
    "collapsed": false
   },
   "outputs": [
    {
     "data": {
      "text/plain": [
       "{'Youth Studies\\n'}"
      ]
     },
     "execution_count": 12,
     "metadata": {},
     "output_type": "execute_result"
    }
   ],
   "source": [
    "b.difference (p)"
   ]
  },
  {
   "cell_type": "code",
   "execution_count": 11,
   "metadata": {
    "collapsed": false
   },
   "outputs": [
    {
     "data": {
      "text/plain": [
       "{'Academic Studies In Education\\n',\n",
       " 'Accounting\\n',\n",
       " 'Adult Nursing\\n',\n",
       " 'Applied Mathematics\\n',\n",
       " 'Aquatic Sciences\\n',\n",
       " 'Archaeology\\n',\n",
       " 'Art History\\n',\n",
       " 'Arts & Humanities\\n',\n",
       " 'Astronomy & Planetary Science\\n',\n",
       " 'Biochemistry\\n',\n",
       " 'Biology\\n',\n",
       " 'Business & Commercial Law\\n',\n",
       " 'Business & Management\\n',\n",
       " 'Business Studies\\n',\n",
       " 'Chemistry\\n',\n",
       " 'Childhood & Youth Studies\\n',\n",
       " 'Children, Young People & Families\\n',\n",
       " 'Chinese\\n',\n",
       " 'Classical Studies\\n',\n",
       " 'Communication Technologies\\n',\n",
       " 'Computing & IT\\n',\n",
       " 'Counselling\\n',\n",
       " 'Creative Writing\\n',\n",
       " 'Criminology\\n',\n",
       " 'Design\\n',\n",
       " 'Development\\n',\n",
       " 'Early Years\\n',\n",
       " 'Earth Sciences\\n',\n",
       " 'Ecology\\n',\n",
       " 'Economics\\n',\n",
       " 'Education, Childhood & Youth\\n',\n",
       " 'Electronic Engineering\\n',\n",
       " 'Engineering\\n',\n",
       " 'English Language\\n',\n",
       " 'English Literature\\n',\n",
       " 'Environment & Development\\n',\n",
       " 'Environmental Management\\n',\n",
       " 'Environmental Sciences\\n',\n",
       " 'Environmental Studies\\n',\n",
       " 'Finance\\n',\n",
       " 'French\\n',\n",
       " 'General Computing\\n',\n",
       " 'General Design\\n',\n",
       " 'General Education\\n',\n",
       " 'General Engineering\\n',\n",
       " 'General Humanities\\n',\n",
       " 'General Law\\n',\n",
       " 'General Mathematics\\n',\n",
       " 'General Nursing\\n',\n",
       " 'General Social Science\\n',\n",
       " 'General Statistics\\n',\n",
       " 'General Technology\\n',\n",
       " 'Genetics\\n',\n",
       " 'Geography\\n',\n",
       " 'Geology\\n',\n",
       " 'German\\n',\n",
       " 'Graphic Design\\n',\n",
       " 'Health & Social Care\\n',\n",
       " 'Health & Wellbeing\\n',\n",
       " 'Health Sciences\\n',\n",
       " 'Healthcare Practice\\n',\n",
       " 'Heritage\\n',\n",
       " 'History\\n',\n",
       " 'Human Anatomy\\n',\n",
       " 'Human Computer Interaction\\n',\n",
       " 'Humanities\\n',\n",
       " 'International Studies\\n',\n",
       " 'Italian\\n',\n",
       " 'Languages\\n',\n",
       " 'Law\\n',\n",
       " 'Leadership & Management\\n',\n",
       " 'Linguistics\\n',\n",
       " 'Management\\n',\n",
       " 'Marketing\\n',\n",
       " 'Mathematical Methods\\n',\n",
       " 'Mathematics\\n',\n",
       " 'Mathematics & Statistics\\n',\n",
       " 'Medical Sciences\\n',\n",
       " 'Mental Health Nursing\\n',\n",
       " 'Music\\n',\n",
       " 'Natural Sciences\\n',\n",
       " 'Networking\\n',\n",
       " 'Neuroscience\\n',\n",
       " 'Nursing & Healthcare Practice\\n',\n",
       " 'Pathology\\n',\n",
       " 'Philosophy\\n',\n",
       " 'Physics\\n',\n",
       " 'Politics\\n',\n",
       " 'Primary Education\\n',\n",
       " 'Professional Science\\n',\n",
       " 'Project Management\\n',\n",
       " 'Psychology\\n',\n",
       " 'Psychology & Counselling\\n',\n",
       " 'Pure Mathematics\\n',\n",
       " 'Religious Studies\\n',\n",
       " 'Research & Study Skills In Education\\n',\n",
       " 'Retail Management\\n',\n",
       " 'Science\\n',\n",
       " 'Secondary Education\\n',\n",
       " 'Social Care\\n',\n",
       " 'Social Policy\\n',\n",
       " 'Social Sciences\\n',\n",
       " 'Social Work\\n',\n",
       " 'Sociology\\n',\n",
       " 'Software Engineering\\n',\n",
       " 'Spanish\\n',\n",
       " 'Sport & Fitness\\n',\n",
       " 'Statistics\\n',\n",
       " 'Strategic Management\\n',\n",
       " 'Teacher Training\\n',\n",
       " 'Technology\\n',\n",
       " 'UK Law\\n',\n",
       " 'Youth Studies'}"
      ]
     },
     "execution_count": 11,
     "metadata": {},
     "output_type": "execute_result"
    }
   ],
   "source": [
    "p"
   ]
  },
  {
   "cell_type": "code",
   "execution_count": null,
   "metadata": {
    "collapsed": true
   },
   "outputs": [],
   "source": []
  }
 ],
 "metadata": {
  "anaconda-cloud": {},
  "kernelspec": {
   "display_name": "Python [default]",
   "language": "python",
   "name": "python3"
  },
  "language_info": {
   "codemirror_mode": {
    "name": "ipython",
    "version": 3
   },
   "file_extension": ".py",
   "mimetype": "text/x-python",
   "name": "python",
   "nbconvert_exporter": "python",
   "pygments_lexer": "ipython3",
   "version": "3.5.2"
  }
 },
 "nbformat": 4,
 "nbformat_minor": 1
}
