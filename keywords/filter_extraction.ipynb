{
 "cells": [
  {
   "cell_type": "code",
   "execution_count": 1,
   "metadata": {
    "collapsed": true
   },
   "outputs": [],
   "source": [
    "import re"
   ]
  },
  {
   "cell_type": "code",
   "execution_count": 11,
   "metadata": {
    "collapsed": false
   },
   "outputs": [
    {
     "data": {
      "text/plain": [
       "339"
      ]
     },
     "execution_count": 11,
     "metadata": {},
     "output_type": "execute_result"
    }
   ],
   "source": [
    "f = open ('type1.txt').readlines ()\n",
    "len (f)"
   ]
  },
  {
   "cell_type": "code",
   "execution_count": 12,
   "metadata": {
    "collapsed": true
   },
   "outputs": [],
   "source": [
    "b = []\n",
    "m = []\n",
    "p = []\n",
    "\n",
    "for l in f:\n",
    "    if 'bachelor' in l:\n",
    "        b.append (l.replace ('bachelor\\'s degree in ', '').replace ('\\n', ''))\n",
    "    elif 'master' in l:\n",
    "        m.append (l.replace ('master\\'s degree in ', '').replace ('\\n', ''))\n",
    "    elif 'phd' in l:\n",
    "        p.append (l.replace ('phd in ', '').replace ('\\n', ''))"
   ]
  },
  {
   "cell_type": "code",
   "execution_count": 13,
   "metadata": {
    "collapsed": false
   },
   "outputs": [
    {
     "data": {
      "text/plain": [
       "['Academic Studies In Education',\n",
       " 'Accounting',\n",
       " 'Adult Nursing',\n",
       " 'Applied Mathematics',\n",
       " 'Aquatic Sciences',\n",
       " 'Archaeology',\n",
       " 'Art History',\n",
       " 'Arts & Humanities',\n",
       " 'Astronomy & Planetary Science',\n",
       " 'Biochemistry',\n",
       " 'Biology',\n",
       " 'Business & Commercial Law',\n",
       " 'Business & Management',\n",
       " 'Business Studies',\n",
       " 'Chemistry',\n",
       " 'Childhood & Youth Studies',\n",
       " 'Children, Young People & Families',\n",
       " 'Chinese',\n",
       " 'Classical Studies',\n",
       " 'Communication Technologies',\n",
       " 'Computing & IT',\n",
       " 'Counselling',\n",
       " 'Creative Writing',\n",
       " 'Criminology',\n",
       " 'Design',\n",
       " 'Development',\n",
       " 'Early Years',\n",
       " 'Earth Sciences',\n",
       " 'Ecology',\n",
       " 'Economics',\n",
       " 'Education, Childhood & Youth',\n",
       " 'Electronic Engineering',\n",
       " 'Engineering',\n",
       " 'English Language',\n",
       " 'English Literature',\n",
       " 'Environment & Development',\n",
       " 'Environmental Management',\n",
       " 'Environmental Sciences',\n",
       " 'Environmental Studies',\n",
       " 'Finance',\n",
       " 'French',\n",
       " 'General Computing',\n",
       " 'General Design',\n",
       " 'General Education',\n",
       " 'General Engineering',\n",
       " 'General Humanities',\n",
       " 'General Law',\n",
       " 'General Mathematics',\n",
       " 'General Nursing',\n",
       " 'General Social Science',\n",
       " 'General Statistics',\n",
       " 'General Technology',\n",
       " 'Genetics',\n",
       " 'Geography',\n",
       " 'Geology',\n",
       " 'German',\n",
       " 'Graphic Design',\n",
       " 'Health & Social Care',\n",
       " 'Health & Wellbeing',\n",
       " 'Health Sciences',\n",
       " 'Healthcare Practice',\n",
       " 'Heritage',\n",
       " 'History',\n",
       " 'Human Anatomy',\n",
       " 'Human Computer Interaction',\n",
       " 'Humanities',\n",
       " 'International Studies',\n",
       " 'Italian',\n",
       " 'Languages',\n",
       " 'Law',\n",
       " 'Leadership & Management',\n",
       " 'Linguistics',\n",
       " 'Management',\n",
       " 'Marketing',\n",
       " 'Mathematical Methods',\n",
       " 'Mathematics',\n",
       " 'Mathematics & Statistics',\n",
       " 'Medical Sciences',\n",
       " 'Mental Health Nursing',\n",
       " 'Music',\n",
       " 'Natural Sciences',\n",
       " 'Networking',\n",
       " 'Neuroscience',\n",
       " 'Nursing & Healthcare Practice',\n",
       " 'Pathology',\n",
       " 'Philosophy',\n",
       " 'Physics',\n",
       " 'Politics',\n",
       " 'Primary Education',\n",
       " 'Professional Science',\n",
       " 'Project Management',\n",
       " 'Psychology',\n",
       " 'Psychology & Counselling',\n",
       " 'Pure Mathematics',\n",
       " 'Religious Studies',\n",
       " 'Research & Study Skills In Education',\n",
       " 'Retail Management',\n",
       " 'Science',\n",
       " 'Secondary Education',\n",
       " 'Social Care',\n",
       " 'Social Policy',\n",
       " 'Social Sciences',\n",
       " 'Social Work',\n",
       " 'Sociology',\n",
       " 'Software Engineering',\n",
       " 'Spanish',\n",
       " 'Sport & Fitness',\n",
       " 'Statistics',\n",
       " 'Strategic Management',\n",
       " 'Teacher Training',\n",
       " 'Technology',\n",
       " 'UK Law',\n",
       " 'Youth Studies']"
      ]
     },
     "execution_count": 13,
     "metadata": {},
     "output_type": "execute_result"
    }
   ],
   "source": [
    "p"
   ]
  },
  {
   "cell_type": "code",
   "execution_count": 14,
   "metadata": {
    "collapsed": false
   },
   "outputs": [
    {
     "data": {
      "text/plain": [
       "'Academic Studies In Education,Accounting,Adult Nursing,Applied Mathematics,Aquatic Sciences,Archaeology,Art History,Arts & Humanities,Astronomy & Planetary Science,Biochemistry,Biology,Business & Commercial Law,Business & Management,Business Studies,Chemistry,Childhood & Youth Studies,Children, Young People & Families,Chinese,Classical Studies,Communication Technologies,Computing & IT,Counselling,Creative Writing,Criminology,Design,Development,Early Years,Earth Sciences,Ecology,Economics,Education, Childhood & Youth,Electronic Engineering,Engineering,English Language,English Literature,Environment & Development,Environmental Management,Environmental Sciences,Environmental Studies,Finance,French,General Computing,General Design,General Education,General Engineering,General Humanities,General Law,General Mathematics,General Nursing,General Social Science,General Statistics,General Technology,Genetics,Geography,Geology,German,Graphic Design,Health & Social Care,Health & Wellbeing,Health Sciences,Healthcare Practice,Heritage,History,Human Anatomy,Human Computer Interaction,Humanities,International Studies,Italian,Languages,Law,Leadership & Management,Linguistics,Management,Marketing,Mathematical Methods,Mathematics,Mathematics & Statistics,Medical Sciences,Mental Health Nursing,Music,Natural Sciences,Networking,Neuroscience,Nursing & Healthcare Practice,Pathology,Philosophy,Physics,Politics,Primary Education,Professional Science,Project Management,Psychology,Psychology & Counselling,Pure Mathematics,Religious Studies,Research & Study Skills In Education,Retail Management,Science,Secondary Education,Social Care,Social Policy,Social Sciences,Social Work,Sociology,Software Engineering,Spanish,Sport & Fitness,Statistics,Strategic Management,Teacher Training,Technology,UK Law,Youth Studies'"
      ]
     },
     "execution_count": 14,
     "metadata": {},
     "output_type": "execute_result"
    }
   ],
   "source": [
    "s = ''\n",
    "\n",
    "for f in p:\n",
    "    s += f + ','\n",
    "    \n",
    "s = s[:-1]\n",
    "s"
   ]
  },
  {
   "cell_type": "code",
   "execution_count": null,
   "metadata": {
    "collapsed": true
   },
   "outputs": [],
   "source": [
    ""
   ]
  }
 ],
 "metadata": {
  "anaconda-cloud": {},
  "kernelspec": {
   "display_name": "Python [default]",
   "language": "python",
   "name": "python3"
  },
  "language_info": {
   "codemirror_mode": {
    "name": "ipython",
    "version": 3.0
   },
   "file_extension": ".py",
   "mimetype": "text/x-python",
   "name": "python",
   "nbconvert_exporter": "python",
   "pygments_lexer": "ipython3",
   "version": "3.5.2"
  }
 },
 "nbformat": 4,
 "nbformat_minor": 0
}