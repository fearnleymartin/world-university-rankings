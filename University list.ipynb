{
 "cells": [
  {
   "cell_type": "code",
   "execution_count": null,
   "metadata": {
    "collapsed": false
   },
   "outputs": [],
   "source": [
    "import requests\n",
    "from bs4 import BeautifulSoup\n",
    "import pandas as pd\n",
    "import os\n",
    "import numpy as np\n",
    "from urllib.parse import urlparse"
   ]
  },
  {
   "cell_type": "markdown",
   "metadata": {},
   "source": [
    "# Collecting a comprehensive list of universities"
   ]
  },
  {
   "cell_type": "markdown",
   "metadata": {},
   "source": [
    "## Find list of all countries over the world"
   ]
  },
  {
   "cell_type": "code",
   "execution_count": null,
   "metadata": {
    "collapsed": false
   },
   "outputs": [],
   "source": [
    "# List of all countries of the world from https://en.wikipedia.org/wiki/Education_Index\n",
    "df_ei = pd.read_excel('world_list_education_index.xlsx', header=None)"
   ]
  },
  {
   "cell_type": "code",
   "execution_count": null,
   "metadata": {
    "collapsed": false
   },
   "outputs": [],
   "source": [
    "countries_ei = df_ei[0].tolist()"
   ]
  },
  {
   "cell_type": "code",
   "execution_count": null,
   "metadata": {
    "collapsed": false
   },
   "outputs": [],
   "source": [
    "df_ei[0][168] = 'Switzerland'\n",
    "df_ei[0][122] = 'Nepal'"
   ]
  },
  {
   "cell_type": "markdown",
   "metadata": {},
   "source": [
    "## Find databases of universities over the world"
   ]
  },
  {
   "cell_type": "markdown",
   "metadata": {},
   "source": [
    "### List of all countries from univ.cc"
   ]
  },
  {
   "cell_type": "code",
   "execution_count": null,
   "metadata": {
    "collapsed": false
   },
   "outputs": [],
   "source": [
    "html_univ_world = requests.get(\"http://univ.cc/world.php\").text"
   ]
  },
  {
   "cell_type": "code",
   "execution_count": null,
   "metadata": {
    "collapsed": false
   },
   "outputs": [],
   "source": [
    "univ_soup = BeautifulSoup(html_univ_world, 'html.parser')"
   ]
  },
  {
   "cell_type": "code",
   "execution_count": null,
   "metadata": {
    "collapsed": false
   },
   "outputs": [],
   "source": [
    "countries_univ = []\n",
    "for option in univ_soup.find_all('option')[1:]:\n",
    "    countries_univ.append(option.text.split(sep='(')[0].strip())"
   ]
  },
  {
   "cell_type": "markdown",
   "metadata": {},
   "source": [
    "### List of all countries in Shanghai ranking"
   ]
  },
  {
   "cell_type": "code",
   "execution_count": null,
   "metadata": {
    "collapsed": false
   },
   "outputs": [],
   "source": [
    "html_shanghai = requests.get(\"http://www.shanghairanking.com/Search.html\").text\n",
    "shanghai_soup = BeautifulSoup(html_shanghai, 'html.parser')"
   ]
  },
  {
   "cell_type": "code",
   "execution_count": null,
   "metadata": {
    "collapsed": false
   },
   "outputs": [],
   "source": [
    "countries_shanghai = []\n",
    "for option in shanghai_soup.find_all('option')[1:-1]:\n",
    "    countries_shanghai.append(option.text.strip())"
   ]
  },
  {
   "cell_type": "markdown",
   "metadata": {},
   "source": [
    "## Verify if these two list give all universities over the world\n",
    "\n",
    "Since univ.cc contains the most countries, we first check if all countries contained in the Shanghai ranking are present. Afterwards we verify that the list if very comprehensive by cross checking with the wikipedia education index list."
   ]
  },
  {
   "cell_type": "code",
   "execution_count": null,
   "metadata": {
    "collapsed": false
   },
   "outputs": [],
   "source": [
    "print(\"The education index list contains {} countries\".format(len(countries_ei)))\n",
    "print(\"The univ.cc list contains {} countries\".format(len(countries_univ)))\n",
    "print(\"The Shanghai list contains {} countries\".format(len(countries_shanghai)))"
   ]
  },
  {
   "cell_type": "code",
   "execution_count": null,
   "metadata": {
    "collapsed": false
   },
   "outputs": [],
   "source": [
    "df_shanghai = pd.DataFrame(countries_shanghai, columns=['country'])\n",
    "df_shanghai[~df_shanghai.country.isin(countries_univ)]"
   ]
  },
  {
   "cell_type": "code",
   "execution_count": null,
   "metadata": {
    "collapsed": false
   },
   "outputs": [],
   "source": [
    "print('Czech Republic' in countries_univ)\n",
    "print('Hong Kong' in countries_univ)\n",
    "print('Macau' in countries_univ)\n",
    "print('Korea, South' in countries_univ)\n",
    "print('Taiwan' in countries_univ)\n",
    "print('United States is missing because univ.cc has a seperate list for the united states')"
   ]
  },
  {
   "cell_type": "code",
   "execution_count": null,
   "metadata": {
    "collapsed": false
   },
   "outputs": [],
   "source": [
    "df_ei[~df_ei[0].isin(countries_univ)]"
   ]
  },
  {
   "cell_type": "code",
   "execution_count": null,
   "metadata": {
    "collapsed": false
   },
   "outputs": [],
   "source": [
    "print('Brunei' in countries_univ)\n",
    "print('Congo, Republic of the' in countries_univ)\n",
    "print('Congo, Democratic Republic of the' in countries_univ)\n",
    "print('Guinea' in countries_univ)\n",
    "print('Korea, North' in countries_univ)\n",
    "print('Korea, South' in countries_univ)\n",
    "print('Laos' in countries_univ)\n",
    "print('Moldova' in countries_univ)\n",
    "print('Burma' in countries_univ)\n",
    "print('Palestine' in countries_univ)\n",
    "print('Russia' in countries_univ)\n",
    "print('Syria' in countries_univ)\n",
    "print('Macedonia' in countries_univ)\n",
    "\n",
    "print('\\nPalau Community College is a two-year college in the Republic of Palau, and the only school of higher education in the nation, not necesarry to include\\n')\n",
    "\n",
    "print('The University of the South Pacific is a regional university serving 12 member countries: Cook Islands, Fiji Islands, Kiribati, Marshall Islands, Nauru, Niue, Samoa, Solomon Islands, Tokelau, Tonga, Tuvalu and Vanuatu.\\n')\n",
    "\n",
    "print('United States is missing because univ.cc has a seperate list for the united states\\n')\n",
    "\n",
    "print('Only for Timor-Leste and Sao Tome and Principe, which both have 1 university, the country was not found in the univ.cc list which makes it a very comprehensive list')"
   ]
  },
  {
   "cell_type": "markdown",
   "metadata": {},
   "source": [
    "## Create comprehensive university list"
   ]
  },
  {
   "cell_type": "code",
   "execution_count": null,
   "metadata": {
    "collapsed": false
   },
   "outputs": [],
   "source": [
    "n_uni_world = 7406\n",
    "n_uni_edu = 2072\n",
    "step = 50\n",
    "def univcc_par_url(start):\n",
    "    return '&start={}'.format(start)\n",
    "\n",
    "univcc_base_url_world = \"http://univ.cc/search.php?dom=world\"\n",
    "univcc_base_url_edu = \"http://univ.cc/search.php?dom=edu\"\n",
    "\n",
    "data_list = []\n",
    "for i in range(1,n_uni_world,step):\n",
    "    r = requests.get(univcc_base_url_world + univcc_par_url(i)).text\n",
    "    h = BeautifulSoup(r, 'html.parser')\n",
    "    \n",
    "    for l in h.find_all('li'):\n",
    "        a = l.find('a')\n",
    "        data_list.append([a.text, urlparse(a['href']).netloc])\n",
    "    \n",
    "df = pd.DataFrame(data_list,columns=['University', 'Website'])\n",
    "\n",
    "for i in range(1,n_uni_edu,step):\n",
    "    r = requests.get(univcc_base_url_edu + univcc_par_url(i)).text\n",
    "    h = BeautifulSoup(r, 'html.parser')\n",
    "    \n",
    "    for l in h.find_all('li'):\n",
    "        a = l.find('a')\n",
    "        data_list.append([a.text, urlparse(a['href']).netloc])\n",
    "    \n",
    "df = pd.DataFrame(data_list,columns=['University', 'Website'])"
   ]
  },
  {
   "cell_type": "code",
   "execution_count": null,
   "metadata": {
    "collapsed": false
   },
   "outputs": [],
   "source": [
    "df.drop_duplicates(subset=['Website'], inplace=True)\n",
    "df.to_csv('university_list_inclusive.csv')"
   ]
  }
 ],
 "metadata": {
  "anaconda-cloud": {},
  "kernelspec": {
   "display_name": "Python [Root]",
   "language": "python",
   "name": "Python [Root]"
  },
  "language_info": {
   "codemirror_mode": {
    "name": "ipython",
    "version": 3
   },
   "file_extension": ".py",
   "mimetype": "text/x-python",
   "name": "python",
   "nbconvert_exporter": "python",
   "pygments_lexer": "ipython3",
   "version": "3.5.2"
  }
 },
 "nbformat": 4,
 "nbformat_minor": 0
}
