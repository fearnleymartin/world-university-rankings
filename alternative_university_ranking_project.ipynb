{
 "cells": [
  {
   "cell_type": "markdown",
   "metadata": {},
   "source": [
    "# Introduction\n",
    "\n",
    "In this project, our aim is to study how present the world's universities are in Google's search results, and use the results to build an alternative university ranking.\n",
    "We will then compare our results to more traditionnal university rankings to see how much information we are able to extract simply by looking at Google search results.\n",
    "\n",
    "The methodology used is as follows:\n",
    "We have a list of the world's universities and a list of Google search queries (of the form <degree_type> + <subject>, e.g. \"master's in computer science\")\n",
    "We make a request to Google for each of our search queries, and we parse the results page to extract all the universities that appear for a given search queries, as well as the order they appear in.\n",
    "To build the simplest version of our ranking, we then count how many times each universities appear when we aggregate over all keywords, and we ponder the results with the order the universities appear in (i.e. if for \"master's in computer science, EPFL appears 10th and ETHZ appears 25th on the search results page, then we give more weight to EPFL than ETHZ).\n",
    "\n",
    "We then take things a step further by using data drawn from Google Keyword Planner to ponder the different search queries used. For each search query, we have access to data such as the monthly search volume, the competition when advertising on this keyword, as well as the suggested bid when advertising on that keyword. We consider as search query to be more important when the three values are higher.\n",
    "\n",
    "We also study our results on a country by country basis. This allows us to see which countries are the most represented. However, we recognise that our methodology has its limitation because all of our search queries are in English, and not all universities have an English version of their website.\n",
    "\n",
    "Finally we compare our results to those obtained in more traditionnal university rankings.\n"
   ]
  },
  {
   "cell_type": "code",
   "execution_count": 39,
   "metadata": {
    "collapsed": true
   },
   "outputs": [],
   "source": [
    "%matplotlib inline\n",
    "import pandas as pd\n",
    "import numpy as np\n",
    "import matplotlib.pyplot as plt"
   ]
  },
  {
   "cell_type": "markdown",
   "metadata": {},
   "source": [
    "# Loading data"
   ]
  },
  {
   "cell_type": "code",
   "execution_count": 2,
   "metadata": {
    "collapsed": false
   },
   "outputs": [
    {
     "data": {
      "text/html": [
       "<div>\n",
       "<table border=\"1\" class=\"dataframe\">\n",
       "  <thead>\n",
       "    <tr style=\"text-align: right;\">\n",
       "      <th></th>\n",
       "      <th>rank</th>\n",
       "      <th>keyword</th>\n",
       "      <th>domain</th>\n",
       "      <th>University</th>\n",
       "      <th>Country</th>\n",
       "    </tr>\n",
       "  </thead>\n",
       "  <tbody>\n",
       "    <tr>\n",
       "      <th>0</th>\n",
       "      <td>43</td>\n",
       "      <td>bachelor's degree in Economics</td>\n",
       "      <td>www.au.dk</td>\n",
       "      <td>Aarhus University</td>\n",
       "      <td>Denmark</td>\n",
       "    </tr>\n",
       "    <tr>\n",
       "      <th>1</th>\n",
       "      <td>42</td>\n",
       "      <td>bachelor's degree in Economics</td>\n",
       "      <td>www.au.dk</td>\n",
       "      <td>Aarhus University</td>\n",
       "      <td>Denmark</td>\n",
       "    </tr>\n",
       "    <tr>\n",
       "      <th>2</th>\n",
       "      <td>91</td>\n",
       "      <td>bachelor's degree in English Language</td>\n",
       "      <td>www.au.dk</td>\n",
       "      <td>Aarhus University</td>\n",
       "      <td>Denmark</td>\n",
       "    </tr>\n",
       "    <tr>\n",
       "      <th>3</th>\n",
       "      <td>29</td>\n",
       "      <td>bachelor's degree in Archaeology</td>\n",
       "      <td>www.au.dk</td>\n",
       "      <td>Aarhus University</td>\n",
       "      <td>Denmark</td>\n",
       "    </tr>\n",
       "    <tr>\n",
       "      <th>4</th>\n",
       "      <td>7</td>\n",
       "      <td>bachelor's degree in Business &amp; Commercial Law</td>\n",
       "      <td>www.au.dk</td>\n",
       "      <td>Aarhus University</td>\n",
       "      <td>Denmark</td>\n",
       "    </tr>\n",
       "  </tbody>\n",
       "</table>\n",
       "</div>"
      ],
      "text/plain": [
       "   rank                                         keyword     domain  \\\n",
       "0    43                  bachelor's degree in Economics  www.au.dk   \n",
       "1    42                  bachelor's degree in Economics  www.au.dk   \n",
       "2    91           bachelor's degree in English Language  www.au.dk   \n",
       "3    29                bachelor's degree in Archaeology  www.au.dk   \n",
       "4     7  bachelor's degree in Business & Commercial Law  www.au.dk   \n",
       "\n",
       "          University  Country  \n",
       "0  Aarhus University  Denmark  \n",
       "1  Aarhus University  Denmark  \n",
       "2  Aarhus University  Denmark  \n",
       "3  Aarhus University  Denmark  \n",
       "4  Aarhus University  Denmark  "
      ]
     },
     "execution_count": 2,
     "metadata": {},
     "output_type": "execute_result"
    }
   ],
   "source": [
    "keywords = pd.read_csv('keywords/rankfalcon_exports/keywords.csv')\n",
    "sites = pd.read_csv('keywords/rankfalcon_exports/sites.csv')\n",
    "rankings = pd.read_csv('keywords/rankfalcon_exports/rankings.csv')\n",
    "universities = pd.read_csv('universities/university_list_countries.csv')\n",
    "keyword_data = pd.read_csv('keywords/Keyword Planner type 1 2017-01-09 at 01-28-48.csv', sep='\\t')\n",
    "\n",
    "rankings = rankings.merge(keywords, on='id_keyword')\n",
    "rankings = rankings.merge(sites, on='id_site')\n",
    "rankings = rankings.merge(universities, left_on='domain', right_on='Website')\n",
    "rankings = rankings[['rank','keyword', 'domain', 'University', 'Country']]\n",
    "rankings = rankings.drop_duplicates()  # Note the data is dirty and contains about 10000 duplicates\n",
    "rankings.head()"
   ]
  },
  {
   "cell_type": "markdown",
   "metadata": {},
   "source": [
    "We have used a list of over 300 search queries (of the form <degree_type> + <subject>, e.g. \"master's in computer science\") and a list of about 10000 universities across the world. \n",
    "\n",
    "Each entry in the above table represents an appeareance of the given university domain amoung the first 100 Google search results obtained with the corresponding query (keyword). The rank is the position the university appeared on the results page.\n",
    "\n"
   ]
  },
  {
   "cell_type": "markdown",
   "metadata": {},
   "source": [
    "# Initial data exploration"
   ]
  },
  {
   "cell_type": "code",
   "execution_count": 3,
   "metadata": {
    "collapsed": false
   },
   "outputs": [
    {
     "data": {
      "text/plain": [
       "count           24488\n",
       "unique           1447\n",
       "top       www.asu.edu\n",
       "freq              223\n",
       "Name: domain, dtype: object"
      ]
     },
     "execution_count": 3,
     "metadata": {},
     "output_type": "execute_result"
    }
   ],
   "source": [
    "rankings.domain.describe()"
   ]
  },
  {
   "cell_type": "code",
   "execution_count": 4,
   "metadata": {
    "collapsed": false
   },
   "outputs": [
    {
     "data": {
      "text/plain": [
       "id_site    9260\n",
       "domain     9258\n",
       "dtype: int64"
      ]
     },
     "execution_count": 4,
     "metadata": {},
     "output_type": "execute_result"
    }
   ],
   "source": [
    "sites.count()"
   ]
  },
  {
   "cell_type": "markdown",
   "metadata": {},
   "source": [
    "We see that 1448 / 9260 of the universities considered appear at least once in the google search results. Seen under a different light, this means that 7812 universities are hardly visible on the web..."
   ]
  },
  {
   "cell_type": "markdown",
   "metadata": {},
   "source": [
    "## Very basic ranking of universities"
   ]
  },
  {
   "cell_type": "markdown",
   "metadata": {},
   "source": [
    "We can see which universities are the most present in Google search results simply by seeing on how many queries they appear (see following table). In the following sections, we will precede to ponder our results with the search rankings and with keyword metadata.\n",
    "\n",
    "With unweighted results we see the ase.edu (Arizona state university) appears the most (for 223 keywords out of a possible 339)"
   ]
  },
  {
   "cell_type": "code",
   "execution_count": 5,
   "metadata": {
    "collapsed": false
   },
   "outputs": [
    {
     "data": {
      "text/plain": [
       "Arizona State University         223\n",
       "Boston University                209\n",
       "New York University              194\n",
       "Stanford University              180\n",
       "Pennsylvania State University    174\n",
       "Name: University, dtype: int64"
      ]
     },
     "execution_count": 5,
     "metadata": {},
     "output_type": "execute_result"
    }
   ],
   "source": [
    "rankings.University.value_counts().head()"
   ]
  },
  {
   "cell_type": "code",
   "execution_count": 6,
   "metadata": {
    "collapsed": true
   },
   "outputs": [],
   "source": [
    "rankings.University.value_counts().to_csv('keywords/rankfalcon_exports/unweighted_ranking.csv')"
   ]
  },
  {
   "cell_type": "markdown",
   "metadata": {},
   "source": [
    "# Pondering the results with search rankings"
   ]
  },
  {
   "cell_type": "markdown",
   "metadata": {},
   "source": [
    "The search rank corresponds to the position a given website appears on the search results page for a given query. For example, if for the query \"master's in computer science\", EPFL appears in first position and ETHZ in second, then we say that EPFL's search ranking is 1 and ETHZ's is 2.\n",
    "\n",
    "To use the ranking data, we invert the rank obtained because a higher rank is better (i.e. ranking first is better than ranking 99th). We need to make sure this is reflected in the weighting.\n",
    "\n",
    "We then weight our rankings depending on where the university came in the the search results for each query. We call the new rank \"inv_rank\" (see table below)"
   ]
  },
  {
   "cell_type": "code",
   "execution_count": 7,
   "metadata": {
    "collapsed": false
   },
   "outputs": [
    {
     "data": {
      "text/html": [
       "<div>\n",
       "<table border=\"1\" class=\"dataframe\">\n",
       "  <thead>\n",
       "    <tr style=\"text-align: right;\">\n",
       "      <th></th>\n",
       "      <th>rank</th>\n",
       "      <th>keyword</th>\n",
       "      <th>domain</th>\n",
       "      <th>University</th>\n",
       "      <th>Country</th>\n",
       "      <th>inv_rank</th>\n",
       "    </tr>\n",
       "  </thead>\n",
       "  <tbody>\n",
       "    <tr>\n",
       "      <th>0</th>\n",
       "      <td>43</td>\n",
       "      <td>bachelor's degree in Economics</td>\n",
       "      <td>www.au.dk</td>\n",
       "      <td>Aarhus University</td>\n",
       "      <td>Denmark</td>\n",
       "      <td>0.023256</td>\n",
       "    </tr>\n",
       "    <tr>\n",
       "      <th>1</th>\n",
       "      <td>42</td>\n",
       "      <td>bachelor's degree in Economics</td>\n",
       "      <td>www.au.dk</td>\n",
       "      <td>Aarhus University</td>\n",
       "      <td>Denmark</td>\n",
       "      <td>0.023810</td>\n",
       "    </tr>\n",
       "    <tr>\n",
       "      <th>2</th>\n",
       "      <td>91</td>\n",
       "      <td>bachelor's degree in English Language</td>\n",
       "      <td>www.au.dk</td>\n",
       "      <td>Aarhus University</td>\n",
       "      <td>Denmark</td>\n",
       "      <td>0.010989</td>\n",
       "    </tr>\n",
       "    <tr>\n",
       "      <th>3</th>\n",
       "      <td>29</td>\n",
       "      <td>bachelor's degree in Archaeology</td>\n",
       "      <td>www.au.dk</td>\n",
       "      <td>Aarhus University</td>\n",
       "      <td>Denmark</td>\n",
       "      <td>0.034483</td>\n",
       "    </tr>\n",
       "    <tr>\n",
       "      <th>4</th>\n",
       "      <td>7</td>\n",
       "      <td>bachelor's degree in Business &amp; Commercial Law</td>\n",
       "      <td>www.au.dk</td>\n",
       "      <td>Aarhus University</td>\n",
       "      <td>Denmark</td>\n",
       "      <td>0.142857</td>\n",
       "    </tr>\n",
       "  </tbody>\n",
       "</table>\n",
       "</div>"
      ],
      "text/plain": [
       "   rank                                         keyword     domain  \\\n",
       "0    43                  bachelor's degree in Economics  www.au.dk   \n",
       "1    42                  bachelor's degree in Economics  www.au.dk   \n",
       "2    91           bachelor's degree in English Language  www.au.dk   \n",
       "3    29                bachelor's degree in Archaeology  www.au.dk   \n",
       "4     7  bachelor's degree in Business & Commercial Law  www.au.dk   \n",
       "\n",
       "          University  Country  inv_rank  \n",
       "0  Aarhus University  Denmark  0.023256  \n",
       "1  Aarhus University  Denmark  0.023810  \n",
       "2  Aarhus University  Denmark  0.010989  \n",
       "3  Aarhus University  Denmark  0.034483  \n",
       "4  Aarhus University  Denmark  0.142857  "
      ]
     },
     "execution_count": 7,
     "metadata": {},
     "output_type": "execute_result"
    }
   ],
   "source": [
    "rankings['inv_rank'] = rankings['rank'].apply(lambda x: 1./x)\n",
    "rankings.head()"
   ]
  },
  {
   "cell_type": "markdown",
   "metadata": {},
   "source": [
    "# Grouping by university"
   ]
  },
  {
   "cell_type": "markdown",
   "metadata": {},
   "source": [
    "The next step is naturally to group our results by university. This basically comes down to taking the sum of all the \"inv_rank\"s over all the search queries on which a university appears. See the table below for a ranking of universities taking into account search rankings."
   ]
  },
  {
   "cell_type": "code",
   "execution_count": 8,
   "metadata": {
    "collapsed": false
   },
   "outputs": [],
   "source": [
    "grouped_rankings = rankings.groupby(['University','Country'])"
   ]
  },
  {
   "cell_type": "code",
   "execution_count": 9,
   "metadata": {
    "collapsed": false
   },
   "outputs": [
    {
     "data": {
      "text/html": [
       "<div>\n",
       "<table border=\"1\" class=\"dataframe\">\n",
       "  <thead>\n",
       "    <tr style=\"text-align: right;\">\n",
       "      <th></th>\n",
       "      <th></th>\n",
       "      <th>rank</th>\n",
       "      <th>inv_rank</th>\n",
       "    </tr>\n",
       "    <tr>\n",
       "      <th>University</th>\n",
       "      <th>Country</th>\n",
       "      <th></th>\n",
       "      <th></th>\n",
       "    </tr>\n",
       "  </thead>\n",
       "  <tbody>\n",
       "    <tr>\n",
       "      <th>Boston University</th>\n",
       "      <th>USA</th>\n",
       "      <td>7547</td>\n",
       "      <td>25.329307</td>\n",
       "    </tr>\n",
       "    <tr>\n",
       "      <th>New York University</th>\n",
       "      <th>USA</th>\n",
       "      <td>7445</td>\n",
       "      <td>15.952792</td>\n",
       "    </tr>\n",
       "    <tr>\n",
       "      <th>Stanford University</th>\n",
       "      <th>USA</th>\n",
       "      <td>6479</td>\n",
       "      <td>15.136372</td>\n",
       "    </tr>\n",
       "    <tr>\n",
       "      <th>Southern New Hampshire University</th>\n",
       "      <th>USA</th>\n",
       "      <td>2788</td>\n",
       "      <td>14.145092</td>\n",
       "    </tr>\n",
       "    <tr>\n",
       "      <th>Columbia University</th>\n",
       "      <th>USA</th>\n",
       "      <td>4861</td>\n",
       "      <td>14.031654</td>\n",
       "    </tr>\n",
       "  </tbody>\n",
       "</table>\n",
       "</div>"
      ],
      "text/plain": [
       "                                           rank   inv_rank\n",
       "University                        Country                 \n",
       "Boston University                 USA      7547  25.329307\n",
       "New York University               USA      7445  15.952792\n",
       "Stanford University               USA      6479  15.136372\n",
       "Southern New Hampshire University USA      2788  14.145092\n",
       "Columbia University               USA      4861  14.031654"
      ]
     },
     "execution_count": 9,
     "metadata": {},
     "output_type": "execute_result"
    }
   ],
   "source": [
    "grouped_weighted_rankings = grouped_rankings.sum().sort_values(['inv_rank'], ascending=False)\n",
    "grouped_weighted_rankings.head()"
   ]
  },
  {
   "cell_type": "markdown",
   "metadata": {},
   "source": [
    "Above is a weighted ranking of the universities"
   ]
  },
  {
   "cell_type": "code",
   "execution_count": 10,
   "metadata": {
    "collapsed": false
   },
   "outputs": [],
   "source": [
    "grouped_weighted_rankings.to_csv('keywords/rankfalcon_exports/weighted_rankings.csv', encoding='utf-8')"
   ]
  },
  {
   "cell_type": "markdown",
   "metadata": {},
   "source": [
    "# Country by country ranking"
   ]
  },
  {
   "cell_type": "markdown",
   "metadata": {},
   "source": [
    "We may also be interested in seeing how represented each countries are in our alternative rankings. See table below which shows the number of universities of each country present in the ranking."
   ]
  },
  {
   "cell_type": "code",
   "execution_count": 11,
   "metadata": {
    "collapsed": false
   },
   "outputs": [],
   "source": [
    "weighted_rankings = pd.read_csv('keywords/rankfalcon_exports/weighted_rankings.csv', encoding='utf-8')"
   ]
  },
  {
   "cell_type": "code",
   "execution_count": 12,
   "metadata": {
    "collapsed": false
   },
   "outputs": [
    {
     "data": {
      "text/plain": [
       "USA               896\n",
       "United Kingdom     93\n",
       "Canada             55\n",
       "Germany            40\n",
       "Australia          33\n",
       "Italy              30\n",
       "Spain              20\n",
       "France             17\n",
       "China              14\n",
       "Netherlands        14\n",
       "Sweden             13\n",
       "India              12\n",
       "Malaysia           12\n",
       "South Africa       12\n",
       "Pakistan           11\n",
       "Ireland            11\n",
       "Japan               9\n",
       "Finland             9\n",
       "Austria             8\n",
       "Norway              8\n",
       "Name: Country, dtype: int64"
      ]
     },
     "execution_count": 12,
     "metadata": {},
     "output_type": "execute_result"
    }
   ],
   "source": [
    "# Our data source for countries specifies individuals states. We replace these states with \"United States of America\"\n",
    "states = ['New York', 'California', 'Pennsylvania', 'Texas', 'Massachusetts','Illinois','Ohio','Florida','Virginia','Michigan','North Carolina',\n",
    "         'Tennessee','Indiana','Wisconsin','Georgia','Missouri','Minnesota','Colorado','New Jersey','Alabama','Louisiana','Washington',\n",
    "         'Maryland','Oregon','Kentucky','Connecticut','Kansas','Nebraska','Oklahoma','South Carolina','Maine','Vermont','Mississippi',\n",
    "         'Rhode Island','Arizona','Arkansas','District of Columbia','Iowa','Utah','New Hampshire','South Dakota','Idaho','New Mexico',\n",
    "         'Delaware','Alaska','Hawaii', 'North Dakota', 'Wyoming','Montana','Nevada','West Virginia']\n",
    "weighted_rankings['Country'].replace(to_replace=states,value='United States of America').value_counts().head(20)"
   ]
  },
  {
   "cell_type": "code",
   "execution_count": 13,
   "metadata": {
    "collapsed": false
   },
   "outputs": [],
   "source": [
    "country_data = weighted_rankings['Country'].replace(to_replace=states,value='United States of America').value_counts()\n",
    "figure_countries = plt.figure(figsize=(15,7))\n",
    "plt.bar(np.arange(country_data.shape[0]),country_data, 0.7)\n",
    "plt.xlabel('Countries')\n",
    "plt.ylabel('Number of universities in ranking')\n",
    "x = plt.xticks(np.arange(country_data.shape[0]) + 0.7 / 2, country_data.keys(), rotation='vertical')\n",
    "plt.yscale('symlog')"
   ]
  },
  {
   "cell_type": "code",
   "execution_count": 14,
   "metadata": {
    "collapsed": false
   },
   "outputs": [
    {
     "data": {
      "text/plain": [
       "(74,)"
      ]
     },
     "execution_count": 14,
     "metadata": {},
     "output_type": "execute_result"
    }
   ],
   "source": [
    "weighted_rankings.replace(to_replace=states,value='United States of America').groupby('Country').size().shape"
   ]
  },
  {
   "cell_type": "markdown",
   "metadata": {},
   "source": [
    "First observation: 74 countries make it onto our rankings.\n",
    "\n",
    "Second observation: Heavy dominance by US then english speaking countries.\n",
    "\n",
    "Up to here, all the queries have been made in English, so it's not surprising that the results are dominated by English speaking countries. Nevertheless many non native English universities often have websites in English, allowing them to rank. We might make adjustment in the future to balance out the playing field. However, we should note that other university rankings are heavily dominated by English speaking universities too."
   ]
  },
  {
   "cell_type": "markdown",
   "metadata": {},
   "source": [
    "# Pondering with keyword metadata"
   ]
  },
  {
   "cell_type": "markdown",
   "metadata": {},
   "source": [
    "In this section, we aim to weight the different search queries (degree type + subject) according to data drawn from Google keyword  planner consisting of search volume, competition and suggested bid.\n",
    "\n",
    "- Search volume: we suppose that keywords with higher search volumes are more important\n",
    "- Competition: we suppose that more competitive keywords (when bidding for ads) are more important\n",
    "- Suggested bid: we suppose that a higher suggested bid (for placing an ad on this keyword) indicates a more important keyword."
   ]
  },
  {
   "cell_type": "code",
   "execution_count": 15,
   "metadata": {
    "collapsed": true
   },
   "outputs": [],
   "source": [
    "# auxiliary function\n",
    "def lower(string):\n",
    "    return string.lower()"
   ]
  },
  {
   "cell_type": "code",
   "execution_count": 16,
   "metadata": {
    "collapsed": false
   },
   "outputs": [],
   "source": [
    "# data wrangling\n",
    "rankings.columns = ['rank', 'Keyword', 'domain', 'University', 'Country', 'inv_rank']\n",
    "rankings['Keyword'] = rankings['Keyword'].apply(lower)"
   ]
  },
  {
   "cell_type": "code",
   "execution_count": 17,
   "metadata": {
    "collapsed": false
   },
   "outputs": [
    {
     "data": {
      "text/html": [
       "<div>\n",
       "<table border=\"1\" class=\"dataframe\">\n",
       "  <thead>\n",
       "    <tr style=\"text-align: right;\">\n",
       "      <th></th>\n",
       "      <th>Keyword</th>\n",
       "      <th>Search volume</th>\n",
       "      <th>Competition</th>\n",
       "      <th>Suggested bid</th>\n",
       "    </tr>\n",
       "  </thead>\n",
       "  <tbody>\n",
       "    <tr>\n",
       "      <th>0</th>\n",
       "      <td>phd in management</td>\n",
       "      <td>3</td>\n",
       "      <td>0.29</td>\n",
       "      <td>3.62</td>\n",
       "    </tr>\n",
       "    <tr>\n",
       "      <th>1</th>\n",
       "      <td>phd in psychology</td>\n",
       "      <td>3</td>\n",
       "      <td>0.55</td>\n",
       "      <td>24.62</td>\n",
       "    </tr>\n",
       "    <tr>\n",
       "      <th>2</th>\n",
       "      <td>phd in economics</td>\n",
       "      <td>3</td>\n",
       "      <td>0.15</td>\n",
       "      <td>2.70</td>\n",
       "    </tr>\n",
       "    <tr>\n",
       "      <th>3</th>\n",
       "      <td>phd in germany</td>\n",
       "      <td>3</td>\n",
       "      <td>0.26</td>\n",
       "      <td>0.98</td>\n",
       "    </tr>\n",
       "    <tr>\n",
       "      <th>4</th>\n",
       "      <td>phd in law</td>\n",
       "      <td>3</td>\n",
       "      <td>0.18</td>\n",
       "      <td>3.28</td>\n",
       "    </tr>\n",
       "  </tbody>\n",
       "</table>\n",
       "</div>"
      ],
      "text/plain": [
       "             Keyword  Search volume  Competition  Suggested bid\n",
       "0  phd in management              3         0.29           3.62\n",
       "1  phd in psychology              3         0.55          24.62\n",
       "2   phd in economics              3         0.15           2.70\n",
       "3     phd in germany              3         0.26           0.98\n",
       "4         phd in law              3         0.18           3.28"
      ]
     },
     "execution_count": 17,
     "metadata": {},
     "output_type": "execute_result"
    }
   ],
   "source": [
    "# loading and cleaning the keyword data\n",
    "keyword_data = pd.read_csv('keywords/Keyword Planner type 1 2017-01-09 at 01-28-48.csv', sep='\\t')\n",
    "\n",
    "# data cleaning\n",
    "keyword_data.columns = ['Keyword', 'Search volume','Competition', 'Suggested bid']\n",
    "keyword_data['Search volume'].fillna(1, inplace=True)\n",
    "keyword_data['Competition'].fillna(0.1, inplace=True)\n",
    "keyword_data['Suggested bid'].fillna(0.01, inplace=True)\n",
    "\n",
    "# Search volume mapping\n",
    "keyword_data['Search volume'].unique()\n",
    "keyword_data['Search volume'].replace(['1K – 10K', '100 – 1K', '10 – 100', '0'],[3,4,2,1], inplace=True)\n",
    "keyword_data.head()"
   ]
  },
  {
   "cell_type": "markdown",
   "metadata": {},
   "source": [
    "The plots below show the distributions of the keyword (search query) metadata. Unfortunately, no data was available for about half of the keywords (too little search volume in general), giving us a slightly skewed distribution."
   ]
  },
  {
   "cell_type": "code",
   "execution_count": 18,
   "metadata": {
    "collapsed": false
   },
   "outputs": [
    {
     "data": {
      "text/plain": [
       "<matplotlib.axes._subplots.AxesSubplot at 0x115a31278>"
      ]
     },
     "execution_count": 18,
     "metadata": {},
     "output_type": "execute_result"
    }
   ],
   "source": [
    "# Plotting the distribution of values\n",
    "keyword_data['Search volume'].hist()"
   ]
  },
  {
   "cell_type": "markdown",
   "metadata": {},
   "source": [
    "We notice that the values for competition and suggested bid are not that well distributed, that is to say the largest values are much larger than the smallest ones. When we weight with these values it will very strongly skewer the rankings obtained in favour of competitive keywords. We don't want the metadata to have so much of an effect. Therefore we normalise the values, scaling them to be between 1 and 2, so that the largest value is only 2 times bigger than the smallest one."
   ]
  },
  {
   "cell_type": "code",
   "execution_count": 19,
   "metadata": {
    "collapsed": false
   },
   "outputs": [
    {
     "name": "stdout",
     "output_type": "stream",
     "text": [
      "Axes(0.125,0.1;0.775x0.8)\n"
     ]
    }
   ],
   "source": [
    "print(keyword_data['Competition'].hist(bins=100))"
   ]
  },
  {
   "cell_type": "code",
   "execution_count": 20,
   "metadata": {
    "collapsed": false
   },
   "outputs": [
    {
     "name": "stdout",
     "output_type": "stream",
     "text": [
      "Axes(0.125,0.1;0.775x0.8)\n"
     ]
    }
   ],
   "source": [
    "import math\n",
    "print(keyword_data['Competition'].apply(lambda x: x+1).hist(bins=100))"
   ]
  },
  {
   "cell_type": "code",
   "execution_count": 21,
   "metadata": {
    "collapsed": false
   },
   "outputs": [
    {
     "name": "stdout",
     "output_type": "stream",
     "text": [
      "Axes(0.125,0.1;0.775x0.8)\n"
     ]
    }
   ],
   "source": [
    "print(keyword_data['Suggested bid'].apply(lambda x: x/50 +1).hist(bins=100))"
   ]
  },
  {
   "cell_type": "markdown",
   "metadata": {},
   "source": [
    "Having cleaned the keyword metadata, we now procede to weight the rankings with the new data. We take the previous ranking \"inv_rank\" and multiply it with our new data to weight each ranking. We call the new column \"weighted_in_rank\"."
   ]
  },
  {
   "cell_type": "code",
   "execution_count": 22,
   "metadata": {
    "collapsed": false,
    "scrolled": true
   },
   "outputs": [
    {
     "data": {
      "text/html": [
       "<div>\n",
       "<table border=\"1\" class=\"dataframe\">\n",
       "  <thead>\n",
       "    <tr style=\"text-align: right;\">\n",
       "      <th></th>\n",
       "      <th>rank</th>\n",
       "      <th>Keyword</th>\n",
       "      <th>domain</th>\n",
       "      <th>University</th>\n",
       "      <th>Country</th>\n",
       "      <th>inv_rank</th>\n",
       "      <th>Search volume</th>\n",
       "      <th>Competition</th>\n",
       "      <th>Suggested bid</th>\n",
       "      <th>weighted_inv_rank</th>\n",
       "    </tr>\n",
       "  </thead>\n",
       "  <tbody>\n",
       "    <tr>\n",
       "      <th>0</th>\n",
       "      <td>43</td>\n",
       "      <td>bachelor's degree in economics</td>\n",
       "      <td>www.au.dk</td>\n",
       "      <td>Aarhus University</td>\n",
       "      <td>Denmark</td>\n",
       "      <td>0.023256</td>\n",
       "      <td>4</td>\n",
       "      <td>0.17</td>\n",
       "      <td>3.56</td>\n",
       "      <td>11.658642</td>\n",
       "    </tr>\n",
       "    <tr>\n",
       "      <th>1</th>\n",
       "      <td>42</td>\n",
       "      <td>bachelor's degree in economics</td>\n",
       "      <td>www.au.dk</td>\n",
       "      <td>Aarhus University</td>\n",
       "      <td>Denmark</td>\n",
       "      <td>0.023810</td>\n",
       "      <td>4</td>\n",
       "      <td>0.17</td>\n",
       "      <td>3.56</td>\n",
       "      <td>11.936229</td>\n",
       "    </tr>\n",
       "    <tr>\n",
       "      <th>2</th>\n",
       "      <td>75</td>\n",
       "      <td>bachelor's degree in economics</td>\n",
       "      <td>www.anu.edu.au</td>\n",
       "      <td>Australian National University</td>\n",
       "      <td>Australia</td>\n",
       "      <td>0.013333</td>\n",
       "      <td>4</td>\n",
       "      <td>0.17</td>\n",
       "      <td>3.56</td>\n",
       "      <td>6.684288</td>\n",
       "    </tr>\n",
       "    <tr>\n",
       "      <th>3</th>\n",
       "      <td>62</td>\n",
       "      <td>bachelor's degree in economics</td>\n",
       "      <td>www.concordia.ca</td>\n",
       "      <td>Concordia University</td>\n",
       "      <td>Canada</td>\n",
       "      <td>0.016129</td>\n",
       "      <td>4</td>\n",
       "      <td>0.17</td>\n",
       "      <td>3.56</td>\n",
       "      <td>8.085832</td>\n",
       "    </tr>\n",
       "    <tr>\n",
       "      <th>4</th>\n",
       "      <td>61</td>\n",
       "      <td>bachelor's degree in economics</td>\n",
       "      <td>www.concordia.ca</td>\n",
       "      <td>Concordia University</td>\n",
       "      <td>Canada</td>\n",
       "      <td>0.016393</td>\n",
       "      <td>4</td>\n",
       "      <td>0.17</td>\n",
       "      <td>3.56</td>\n",
       "      <td>8.218387</td>\n",
       "    </tr>\n",
       "  </tbody>\n",
       "</table>\n",
       "</div>"
      ],
      "text/plain": [
       "   rank                         Keyword            domain  \\\n",
       "0    43  bachelor's degree in economics         www.au.dk   \n",
       "1    42  bachelor's degree in economics         www.au.dk   \n",
       "2    75  bachelor's degree in economics    www.anu.edu.au   \n",
       "3    62  bachelor's degree in economics  www.concordia.ca   \n",
       "4    61  bachelor's degree in economics  www.concordia.ca   \n",
       "\n",
       "                       University    Country  inv_rank  Search volume  \\\n",
       "0               Aarhus University    Denmark  0.023256              4   \n",
       "1               Aarhus University    Denmark  0.023810              4   \n",
       "2  Australian National University  Australia  0.013333              4   \n",
       "3            Concordia University     Canada  0.016129              4   \n",
       "4            Concordia University     Canada  0.016393              4   \n",
       "\n",
       "   Competition  Suggested bid  weighted_inv_rank  \n",
       "0         0.17           3.56          11.658642  \n",
       "1         0.17           3.56          11.936229  \n",
       "2         0.17           3.56           6.684288  \n",
       "3         0.17           3.56           8.085832  \n",
       "4         0.17           3.56           8.218387  "
      ]
     },
     "execution_count": 22,
     "metadata": {},
     "output_type": "execute_result"
    }
   ],
   "source": [
    "# weighting the rankings with keyword data\n",
    "coef_search_volume = 1\n",
    "coef_competition = 10\n",
    "coef_suggested_bid = 10\n",
    "rankings_seo_data = rankings.merge(keyword_data, on='Keyword')\n",
    "rankings_seo_data['weighted_inv_rank']=rankings_seo_data['inv_rank']*coef_search_volume*rankings_seo_data['Search volume']*coef_competition*rankings_seo_data['Competition'].apply(lambda x:x+1)*coef_suggested_bid*rankings_seo_data['Suggested bid'].apply(lambda x: x/50+1)\n",
    "# print(rankings_seo_data['weighted_inv_rank'].describe())\n",
    "rankings_seo_data.head()"
   ]
  },
  {
   "cell_type": "code",
   "execution_count": 23,
   "metadata": {
    "collapsed": false
   },
   "outputs": [
    {
     "data": {
      "text/html": [
       "<div>\n",
       "<table border=\"1\" class=\"dataframe\">\n",
       "  <thead>\n",
       "    <tr style=\"text-align: right;\">\n",
       "      <th></th>\n",
       "      <th>Unnamed: 0</th>\n",
       "      <th>Country</th>\n",
       "      <th>University</th>\n",
       "      <th>Website</th>\n",
       "      <th>lat</th>\n",
       "      <th>lng</th>\n",
       "    </tr>\n",
       "  </thead>\n",
       "  <tbody>\n",
       "    <tr>\n",
       "      <th>0</th>\n",
       "      <td>0</td>\n",
       "      <td>Afghanistan</td>\n",
       "      <td>Afghan University</td>\n",
       "      <td>www.afghanuniversity.edu.af</td>\n",
       "      <td>34.475522</td>\n",
       "      <td>69.126454</td>\n",
       "    </tr>\n",
       "    <tr>\n",
       "      <th>1</th>\n",
       "      <td>1</td>\n",
       "      <td>Afghanistan</td>\n",
       "      <td>Al-Birony University</td>\n",
       "      <td>www.au.edu.af</td>\n",
       "      <td>35.126848</td>\n",
       "      <td>69.317578</td>\n",
       "    </tr>\n",
       "    <tr>\n",
       "      <th>2</th>\n",
       "      <td>2</td>\n",
       "      <td>Afghanistan</td>\n",
       "      <td>American University of Afghanistan</td>\n",
       "      <td>www.auaf.edu.af</td>\n",
       "      <td>34.475522</td>\n",
       "      <td>69.126454</td>\n",
       "    </tr>\n",
       "    <tr>\n",
       "      <th>3</th>\n",
       "      <td>3</td>\n",
       "      <td>Afghanistan</td>\n",
       "      <td>Aria Institute of Higher Education</td>\n",
       "      <td>www.aria.edu.af</td>\n",
       "      <td>27.030823</td>\n",
       "      <td>75.893719</td>\n",
       "    </tr>\n",
       "    <tr>\n",
       "      <th>4</th>\n",
       "      <td>4</td>\n",
       "      <td>Afghanistan</td>\n",
       "      <td>Ariana Institute of Higher Education</td>\n",
       "      <td>www.ariana.edu.af</td>\n",
       "      <td>30.310454</td>\n",
       "      <td>-97.859309</td>\n",
       "    </tr>\n",
       "  </tbody>\n",
       "</table>\n",
       "</div>"
      ],
      "text/plain": [
       "   Unnamed: 0      Country                            University  \\\n",
       "0           0  Afghanistan                     Afghan University   \n",
       "1           1  Afghanistan                  Al-Birony University   \n",
       "2           2  Afghanistan    American University of Afghanistan   \n",
       "3           3  Afghanistan    Aria Institute of Higher Education   \n",
       "4           4  Afghanistan  Ariana Institute of Higher Education   \n",
       "\n",
       "                       Website        lat        lng  \n",
       "0  www.afghanuniversity.edu.af  34.475522  69.126454  \n",
       "1                www.au.edu.af  35.126848  69.317578  \n",
       "2              www.auaf.edu.af  34.475522  69.126454  \n",
       "3              www.aria.edu.af  27.030823  75.893719  \n",
       "4            www.ariana.edu.af  30.310454 -97.859309  "
      ]
     },
     "execution_count": 23,
     "metadata": {},
     "output_type": "execute_result"
    }
   ],
   "source": [
    "# get lat/lon data\n",
    "lat_lon = pd.read_csv('universities/University_locations.csv', encoding='utf-8' )\n",
    "lat_lon.head()"
   ]
  },
  {
   "cell_type": "code",
   "execution_count": 24,
   "metadata": {
    "collapsed": false
   },
   "outputs": [
    {
     "data": {
      "text/html": [
       "<div>\n",
       "<table border=\"1\" class=\"dataframe\">\n",
       "  <thead>\n",
       "    <tr style=\"text-align: right;\">\n",
       "      <th></th>\n",
       "      <th>rank</th>\n",
       "      <th>Keyword</th>\n",
       "      <th>domain</th>\n",
       "      <th>University</th>\n",
       "      <th>Country</th>\n",
       "      <th>inv_rank</th>\n",
       "      <th>Search volume</th>\n",
       "      <th>Competition</th>\n",
       "      <th>Suggested bid</th>\n",
       "      <th>weighted_inv_rank</th>\n",
       "      <th>degree_type</th>\n",
       "      <th>subject</th>\n",
       "      <th>lat</th>\n",
       "      <th>lng</th>\n",
       "    </tr>\n",
       "  </thead>\n",
       "  <tbody>\n",
       "    <tr>\n",
       "      <th>0</th>\n",
       "      <td>43</td>\n",
       "      <td>bachelor's degree in economics</td>\n",
       "      <td>www.au.dk</td>\n",
       "      <td>Aarhus University</td>\n",
       "      <td>Denmark</td>\n",
       "      <td>0.023256</td>\n",
       "      <td>4</td>\n",
       "      <td>0.17</td>\n",
       "      <td>3.56</td>\n",
       "      <td>11.658642</td>\n",
       "      <td>bachelor</td>\n",
       "      <td>economics</td>\n",
       "      <td>56.168138</td>\n",
       "      <td>10.203012</td>\n",
       "    </tr>\n",
       "    <tr>\n",
       "      <th>1</th>\n",
       "      <td>42</td>\n",
       "      <td>bachelor's degree in economics</td>\n",
       "      <td>www.au.dk</td>\n",
       "      <td>Aarhus University</td>\n",
       "      <td>Denmark</td>\n",
       "      <td>0.023810</td>\n",
       "      <td>4</td>\n",
       "      <td>0.17</td>\n",
       "      <td>3.56</td>\n",
       "      <td>11.936229</td>\n",
       "      <td>bachelor</td>\n",
       "      <td>economics</td>\n",
       "      <td>56.168138</td>\n",
       "      <td>10.203012</td>\n",
       "    </tr>\n",
       "    <tr>\n",
       "      <th>2</th>\n",
       "      <td>91</td>\n",
       "      <td>bachelor's degree in english language</td>\n",
       "      <td>www.au.dk</td>\n",
       "      <td>Aarhus University</td>\n",
       "      <td>Denmark</td>\n",
       "      <td>0.010989</td>\n",
       "      <td>2</td>\n",
       "      <td>0.11</td>\n",
       "      <td>0.01</td>\n",
       "      <td>2.440048</td>\n",
       "      <td>bachelor</td>\n",
       "      <td>english language</td>\n",
       "      <td>56.168138</td>\n",
       "      <td>10.203012</td>\n",
       "    </tr>\n",
       "    <tr>\n",
       "      <th>3</th>\n",
       "      <td>29</td>\n",
       "      <td>bachelor's degree in archaeology</td>\n",
       "      <td>www.au.dk</td>\n",
       "      <td>Aarhus University</td>\n",
       "      <td>Denmark</td>\n",
       "      <td>0.034483</td>\n",
       "      <td>2</td>\n",
       "      <td>0.27</td>\n",
       "      <td>0.01</td>\n",
       "      <td>8.760372</td>\n",
       "      <td>bachelor</td>\n",
       "      <td>archaeology</td>\n",
       "      <td>56.168138</td>\n",
       "      <td>10.203012</td>\n",
       "    </tr>\n",
       "    <tr>\n",
       "      <th>4</th>\n",
       "      <td>80</td>\n",
       "      <td>bachelor's degree in spanish</td>\n",
       "      <td>www.au.dk</td>\n",
       "      <td>Aarhus University</td>\n",
       "      <td>Denmark</td>\n",
       "      <td>0.012500</td>\n",
       "      <td>3</td>\n",
       "      <td>0.20</td>\n",
       "      <td>20.79</td>\n",
       "      <td>6.371100</td>\n",
       "      <td>bachelor</td>\n",
       "      <td>spanish</td>\n",
       "      <td>56.168138</td>\n",
       "      <td>10.203012</td>\n",
       "    </tr>\n",
       "  </tbody>\n",
       "</table>\n",
       "</div>"
      ],
      "text/plain": [
       "   rank                                Keyword     domain         University  \\\n",
       "0    43         bachelor's degree in economics  www.au.dk  Aarhus University   \n",
       "1    42         bachelor's degree in economics  www.au.dk  Aarhus University   \n",
       "2    91  bachelor's degree in english language  www.au.dk  Aarhus University   \n",
       "3    29       bachelor's degree in archaeology  www.au.dk  Aarhus University   \n",
       "4    80           bachelor's degree in spanish  www.au.dk  Aarhus University   \n",
       "\n",
       "   Country  inv_rank  Search volume  Competition  Suggested bid  \\\n",
       "0  Denmark  0.023256              4         0.17           3.56   \n",
       "1  Denmark  0.023810              4         0.17           3.56   \n",
       "2  Denmark  0.010989              2         0.11           0.01   \n",
       "3  Denmark  0.034483              2         0.27           0.01   \n",
       "4  Denmark  0.012500              3         0.20          20.79   \n",
       "\n",
       "   weighted_inv_rank degree_type           subject        lat        lng  \n",
       "0          11.658642    bachelor         economics  56.168138  10.203012  \n",
       "1          11.936229    bachelor         economics  56.168138  10.203012  \n",
       "2           2.440048    bachelor  english language  56.168138  10.203012  \n",
       "3           8.760372    bachelor       archaeology  56.168138  10.203012  \n",
       "4           6.371100    bachelor           spanish  56.168138  10.203012  "
      ]
     },
     "execution_count": 24,
     "metadata": {},
     "output_type": "execute_result"
    }
   ],
   "source": [
    "# export to json\n",
    "def extract_degree_type(keyword):\n",
    "    if keyword[0]=='b':\n",
    "        return 'bachelor'\n",
    "    elif keyword[0]=='m':\n",
    "        return 'master'\n",
    "    else:\n",
    "        return 'phd'\n",
    "def extract_subject(keyword):\n",
    "    return keyword.split('in ')[1]\n",
    "\n",
    "\n",
    "\n",
    "rankings_seo_data_json = rankings_seo_data.copy()\n",
    "rankings_seo_data_json['degree_type'] = rankings_seo_data_json['Keyword'].apply(extract_degree_type)\n",
    "rankings_seo_data_json['subject'] = rankings_seo_data_json['Keyword'].apply(extract_subject)\n",
    "rankings_seo_data_json['Country'].replace(to_replace=states,value='United States', inplace=True)\n",
    "rankings_seo_data_json = rankings_seo_data_json.merge(lat_lon[['University','lat','lng']], on='University')\n",
    "rankings_seo_data_json[['domain', 'University', 'Country', 'weighted_inv_rank', 'degree_type', 'subject','lat','lng']].to_csv('website/data/data.csv')\n",
    "rankings_seo_data_json.head()"
   ]
  },
  {
   "cell_type": "markdown",
   "metadata": {},
   "source": [
    "# Ranking with keyword metadata weighting"
   ]
  },
  {
   "cell_type": "code",
   "execution_count": 25,
   "metadata": {
    "collapsed": false
   },
   "outputs": [
    {
     "data": {
      "text/html": [
       "<div>\n",
       "<table border=\"1\" class=\"dataframe\">\n",
       "  <thead>\n",
       "    <tr style=\"text-align: right;\">\n",
       "      <th></th>\n",
       "      <th></th>\n",
       "      <th>rank</th>\n",
       "      <th>inv_rank</th>\n",
       "      <th>Search volume</th>\n",
       "      <th>Competition</th>\n",
       "      <th>Suggested bid</th>\n",
       "      <th>weighted_inv_rank</th>\n",
       "      <th>count</th>\n",
       "    </tr>\n",
       "    <tr>\n",
       "      <th>University</th>\n",
       "      <th>Country</th>\n",
       "      <th></th>\n",
       "      <th></th>\n",
       "      <th></th>\n",
       "      <th></th>\n",
       "      <th></th>\n",
       "      <th></th>\n",
       "      <th></th>\n",
       "    </tr>\n",
       "  </thead>\n",
       "  <tbody>\n",
       "    <tr>\n",
       "      <th>Boston University</th>\n",
       "      <th>USA</th>\n",
       "      <td>2440</td>\n",
       "      <td>14.034576</td>\n",
       "      <td>248</td>\n",
       "      <td>23.06</td>\n",
       "      <td>701.96</td>\n",
       "      <td>6100.751422</td>\n",
       "      <td>79</td>\n",
       "    </tr>\n",
       "    <tr>\n",
       "      <th>Southern New Hampshire University</th>\n",
       "      <th>USA</th>\n",
       "      <td>424</td>\n",
       "      <td>6.794156</td>\n",
       "      <td>81</td>\n",
       "      <td>14.56</td>\n",
       "      <td>445.16</td>\n",
       "      <td>3626.403619</td>\n",
       "      <td>27</td>\n",
       "    </tr>\n",
       "    <tr>\n",
       "      <th>Stanford University</th>\n",
       "      <th>USA</th>\n",
       "      <td>2634</td>\n",
       "      <td>7.536873</td>\n",
       "      <td>237</td>\n",
       "      <td>19.75</td>\n",
       "      <td>393.60</td>\n",
       "      <td>3383.680806</td>\n",
       "      <td>75</td>\n",
       "    </tr>\n",
       "    <tr>\n",
       "      <th>New York University</th>\n",
       "      <th>USA</th>\n",
       "      <td>2397</td>\n",
       "      <td>6.833305</td>\n",
       "      <td>220</td>\n",
       "      <td>21.16</td>\n",
       "      <td>541.68</td>\n",
       "      <td>3115.857911</td>\n",
       "      <td>70</td>\n",
       "    </tr>\n",
       "    <tr>\n",
       "      <th>George Mason University</th>\n",
       "      <th>USA</th>\n",
       "      <td>1812</td>\n",
       "      <td>5.864796</td>\n",
       "      <td>157</td>\n",
       "      <td>15.98</td>\n",
       "      <td>406.44</td>\n",
       "      <td>2978.001996</td>\n",
       "      <td>49</td>\n",
       "    </tr>\n",
       "  </tbody>\n",
       "</table>\n",
       "</div>"
      ],
      "text/plain": [
       "                                           rank   inv_rank  Search volume  \\\n",
       "University                        Country                                   \n",
       "Boston University                 USA      2440  14.034576            248   \n",
       "Southern New Hampshire University USA       424   6.794156             81   \n",
       "Stanford University               USA      2634   7.536873            237   \n",
       "New York University               USA      2397   6.833305            220   \n",
       "George Mason University           USA      1812   5.864796            157   \n",
       "\n",
       "                                           Competition  Suggested bid  \\\n",
       "University                        Country                               \n",
       "Boston University                 USA            23.06         701.96   \n",
       "Southern New Hampshire University USA            14.56         445.16   \n",
       "Stanford University               USA            19.75         393.60   \n",
       "New York University               USA            21.16         541.68   \n",
       "George Mason University           USA            15.98         406.44   \n",
       "\n",
       "                                           weighted_inv_rank  count  \n",
       "University                        Country                            \n",
       "Boston University                 USA            6100.751422     79  \n",
       "Southern New Hampshire University USA            3626.403619     27  \n",
       "Stanford University               USA            3383.680806     75  \n",
       "New York University               USA            3115.857911     70  \n",
       "George Mason University           USA            2978.001996     49  "
      ]
     },
     "execution_count": 25,
     "metadata": {},
     "output_type": "execute_result"
    }
   ],
   "source": [
    "#calculating the new keyword ranking\n",
    "rankings_seo_data['count']=1\n",
    "rankings_seo_data_grouped = rankings_seo_data.groupby(['University','Country']).sum().sort_values(['weighted_inv_rank'], ascending=False)\n",
    "rankings_seo_data_grouped.head()"
   ]
  },
  {
   "cell_type": "markdown",
   "metadata": {},
   "source": [
    "# Effect of weighting by keyword metadata"
   ]
  },
  {
   "cell_type": "markdown",
   "metadata": {},
   "source": [
    "We would like to see how much effect on the rankings our weighted procedures have. To do this, we produce a table where we show the ranking of each university under each of the three different methodology we have used so far. \n",
    "\n",
    "To recap the first (count) was simply counting the net number of appearances of a university over all keywords, the second (inv_rank) was pondering with search rankings, and the third (weighted_inv_rank) is pondering with search rankings and with keyword metadata.\n",
    "\n",
    "We also calculate the difference between weighted_inv_rank and inv_rank to see how much the rankings change by."
   ]
  },
  {
   "cell_type": "code",
   "execution_count": 26,
   "metadata": {
    "collapsed": false
   },
   "outputs": [
    {
     "data": {
      "text/html": [
       "<div>\n",
       "<table border=\"1\" class=\"dataframe\">\n",
       "  <thead>\n",
       "    <tr style=\"text-align: right;\">\n",
       "      <th></th>\n",
       "      <th></th>\n",
       "      <th>count</th>\n",
       "      <th>inv_rank</th>\n",
       "      <th>weighted_inv_rank</th>\n",
       "      <th>diff</th>\n",
       "    </tr>\n",
       "    <tr>\n",
       "      <th>University</th>\n",
       "      <th>Country</th>\n",
       "      <th></th>\n",
       "      <th></th>\n",
       "      <th></th>\n",
       "      <th></th>\n",
       "    </tr>\n",
       "  </thead>\n",
       "  <tbody>\n",
       "    <tr>\n",
       "      <th>Boston University</th>\n",
       "      <th>USA</th>\n",
       "      <td>1.0</td>\n",
       "      <td>1.0</td>\n",
       "      <td>1.0</td>\n",
       "      <td>0.0</td>\n",
       "    </tr>\n",
       "    <tr>\n",
       "      <th>Southern New Hampshire University</th>\n",
       "      <th>USA</th>\n",
       "      <td>85.5</td>\n",
       "      <td>4.0</td>\n",
       "      <td>2.0</td>\n",
       "      <td>-2.0</td>\n",
       "    </tr>\n",
       "    <tr>\n",
       "      <th>Stanford University</th>\n",
       "      <th>USA</th>\n",
       "      <td>3.0</td>\n",
       "      <td>2.0</td>\n",
       "      <td>3.0</td>\n",
       "      <td>1.0</td>\n",
       "    </tr>\n",
       "    <tr>\n",
       "      <th>New York University</th>\n",
       "      <th>USA</th>\n",
       "      <td>4.0</td>\n",
       "      <td>3.0</td>\n",
       "      <td>4.0</td>\n",
       "      <td>1.0</td>\n",
       "    </tr>\n",
       "    <tr>\n",
       "      <th>George Mason University</th>\n",
       "      <th>USA</th>\n",
       "      <td>18.5</td>\n",
       "      <td>8.0</td>\n",
       "      <td>5.0</td>\n",
       "      <td>-3.0</td>\n",
       "    </tr>\n",
       "  </tbody>\n",
       "</table>\n",
       "</div>"
      ],
      "text/plain": [
       "                                           count  inv_rank  weighted_inv_rank  \\\n",
       "University                        Country                                       \n",
       "Boston University                 USA        1.0       1.0                1.0   \n",
       "Southern New Hampshire University USA       85.5       4.0                2.0   \n",
       "Stanford University               USA        3.0       2.0                3.0   \n",
       "New York University               USA        4.0       3.0                4.0   \n",
       "George Mason University           USA       18.5       8.0                5.0   \n",
       "\n",
       "                                           diff  \n",
       "University                        Country        \n",
       "Boston University                 USA       0.0  \n",
       "Southern New Hampshire University USA      -2.0  \n",
       "Stanford University               USA       1.0  \n",
       "New York University               USA       1.0  \n",
       "George Mason University           USA      -3.0  "
      ]
     },
     "execution_count": 26,
     "metadata": {},
     "output_type": "execute_result"
    }
   ],
   "source": [
    "ranking_comp_table = rankings_seo_data_grouped.copy()\n",
    "ranking_comp_table['weighted_inv_rank'] = ranking_comp_table['weighted_inv_rank'].rank(ascending=False)\n",
    "ranking_comp_table['inv_rank'] = ranking_comp_table['inv_rank'].rank(ascending=False)\n",
    "ranking_comp_table['count'] = ranking_comp_table['count'].rank(ascending=False)\n",
    "ranking_comp_table['diff'] = ranking_comp_table['weighted_inv_rank'] - ranking_comp_table['inv_rank']\n",
    "ranking_comp_table.sort_values('weighted_inv_rank')[['count','inv_rank','weighted_inv_rank','diff']].head()"
   ]
  },
  {
   "cell_type": "markdown",
   "metadata": {},
   "source": [
    "See graph below for the distribution of \"diff\", i.e. how much the rankings change when we ponder using the keyword meta data.\n",
    "\n",
    "The majority of unversities are not much affected (diff = 0 approx), but we do notice that they are still are sizeable chunk of universities whose rankings vary quite a lot."
   ]
  },
  {
   "cell_type": "code",
   "execution_count": 27,
   "metadata": {
    "collapsed": false
   },
   "outputs": [
    {
     "data": {
      "text/plain": [
       "<matplotlib.axes._subplots.AxesSubplot at 0x115a31278>"
      ]
     },
     "execution_count": 27,
     "metadata": {},
     "output_type": "execute_result"
    }
   ],
   "source": [
    "ranking_comp_table.sort_values('weighted_inv_rank')['diff'].hist(bins=30)"
   ]
  },
  {
   "cell_type": "markdown",
   "metadata": {},
   "source": [
    "# Comparaison with traditional rankings"
   ]
  },
  {
   "cell_type": "markdown",
   "metadata": {},
   "source": [
    "We have chosen to compare our results with the Shanghai world university ranking. We made this choice because it is a well known ranking that offers the domain name of the universities in their rankings which made it easy to compare.\n",
    "\n",
    "First we load both rankings and manually adjusted some keys (domain). Then we merge our ranking together with the shanghai ranking."
   ]
  },
  {
   "cell_type": "code",
   "execution_count": 28,
   "metadata": {
    "collapsed": false
   },
   "outputs": [],
   "source": [
    "df_sha_rankings = pd.read_csv(\"sha_rankings.csv\", names=['rank_sha','University','sha_url','domain'], skiprows=1)\n",
    "df_sha_rankings.loc[4,'domain'] = 'www.mit.edu'\n",
    "df_sha_rankings.loc[21,'domain'] = 'www.ic.ac.uk'\n",
    "df_sha_rankings.loc[25, 'domain'] = 'www.nwu.edu'\n",
    "df_sha_rankings.loc[30, 'domain'] = 'www.uillinois.edu'\n",
    "df_sha_rankings.loc[32, 'domain'] = 'www1.umn.edu'\n",
    "df_sha_rankings.loc[34, 'domain'] = 'www.man.ac.uk'\n",
    "df_sha_rankings.loc[38, 'domain'] = 'www.jussieu.fr'\n",
    "df_sha_rankings.loc[42, 'domain'] = 'www.utsouthwestern.edu'\n",
    "df_sha_rankings.loc[47, 'domain'] = 'www.tu-muenchen.de'\n",
    "df_sha_rankings.loc[50, 'domain'] = 'www.fh-muenchen.de'\n",
    "df_sha_rankings.loc[53, 'domain'] = 'www.unizh.ch'\n",
    "df_sha_rankings.loc[55, 'domain'] = 'www.helsinki.fi'\n",
    "df_sha_rankings.loc[56, 'domain'] = 'www.bris.ac.uk'\n",
    "df_sha_rankings.loc[61, 'domain'] = 'www.rug.ac.be'\n",
    "df_sha_rankings.loc[79, 'domain'] = 'www.ohio-state.edu'\n",
    "df_sha_rankings.loc[81, 'domain'] = 'www.usyd.edu.au'\n",
    "df_sha_rankings.loc[93, 'domain'] = 'www.kuleuven.ac.be'\n",
    "df_sha_rankings.loc[94, 'domain'] = 'www.leidenuniv.nl'\n",
    "df_sha_rankings.loc[96, 'domain'] = 'www.rutgers.edu'\n",
    "sha_wur_comp = pd.merge(df_sha_rankings, universities, left_on='domain', right_on='Website', how='left')[['rank_sha', 'University_x', 'University_y','domain', 'Website']]"
   ]
  },
  {
   "cell_type": "code",
   "execution_count": 29,
   "metadata": {
    "collapsed": true
   },
   "outputs": [],
   "source": [
    "# shanghai ranking (rank, university)\n",
    "sha_comp = sha_wur_comp[['rank_sha', 'University_y']]\n",
    "sha_comp.columns = ['rank_sha', 'University']"
   ]
  },
  {
   "cell_type": "code",
   "execution_count": 30,
   "metadata": {
    "collapsed": true
   },
   "outputs": [],
   "source": [
    "# our ranking (rank, university)\n",
    "wur_rankings = pd.DataFrame(ranking_comp_table.sort_values('weighted_inv_rank')['weighted_inv_rank'].reset_index()[0:100])\n",
    "wur_rankings = wur_rankings[['University', 'weighted_inv_rank']]\n",
    "wur_rankings.columns = ['University', 'rank_wur']"
   ]
  },
  {
   "cell_type": "code",
   "execution_count": 31,
   "metadata": {
    "collapsed": true
   },
   "outputs": [],
   "source": [
    "# combined\n",
    "sha_wur_comp = pd.merge(sha_comp, wur_rankings,how='outer')"
   ]
  },
  {
   "cell_type": "markdown",
   "metadata": {},
   "source": [
    "The merges creates NaN values because we only consider the first 100 universities in both rankings and these do not overlap completely. There are 44 universities that appear both in our ranking as in the shanghai ranking."
   ]
  },
  {
   "cell_type": "code",
   "execution_count": 32,
   "metadata": {
    "collapsed": false
   },
   "outputs": [
    {
     "name": "stdout",
     "output_type": "stream",
     "text": [
      "The overlap between the two rankings contains 44 universities\n"
     ]
    }
   ],
   "source": [
    "print('The overlap between the two rankings contains {} universities'.format(100 - sha_wur_comp['rank_wur'].isnull().sum()))"
   ]
  },
  {
   "cell_type": "code",
   "execution_count": 33,
   "metadata": {
    "collapsed": false
   },
   "outputs": [],
   "source": [
    "comparison_result = sha_wur_comp.loc[np.where((sha_wur_comp['rank_sha'].notnull()) & (sha_wur_comp['rank_wur'].notnull()))].sort_values('rank_wur')\n",
    "comparison_result['rank_sha'] = comparison_result['rank_sha'] + 1\n",
    "comparison_result['diff'] = comparison_result['rank_sha'] - comparison_result['rank_wur']\n",
    "comparison_result['direction'] = (comparison_result['diff'] > 0)*1"
   ]
  },
  {
   "cell_type": "markdown",
   "metadata": {},
   "source": [
    "Analysis:\n",
    "\n",
    "1. The entire top 5 of the Shanghai ranking is present in our ranking, where the University of California and Stanford University even appear in the top 5.\n",
    "\n",
    "2. Two universities in our top 5 are not represented in the top 100 Shanghai: Southern New Hampshire University\t(2) and George Mason University\t(5).\n",
    "\n",
    "3. Boston University (our number 1) increases 74 positions."
   ]
  },
  {
   "cell_type": "code",
   "execution_count": 34,
   "metadata": {
    "collapsed": false
   },
   "outputs": [
    {
     "data": {
      "text/html": [
       "<div>\n",
       "<table border=\"1\" class=\"dataframe\">\n",
       "  <thead>\n",
       "    <tr style=\"text-align: right;\">\n",
       "      <th></th>\n",
       "      <th>rank_sha</th>\n",
       "      <th>University</th>\n",
       "      <th>rank_wur</th>\n",
       "      <th>diff</th>\n",
       "      <th>direction</th>\n",
       "    </tr>\n",
       "  </thead>\n",
       "  <tbody>\n",
       "    <tr>\n",
       "      <th>74</th>\n",
       "      <td>75.0</td>\n",
       "      <td>Boston University</td>\n",
       "      <td>1.0</td>\n",
       "      <td>74.0</td>\n",
       "      <td>1</td>\n",
       "    </tr>\n",
       "    <tr>\n",
       "      <th>1</th>\n",
       "      <td>2.0</td>\n",
       "      <td>Stanford University</td>\n",
       "      <td>3.0</td>\n",
       "      <td>-1.0</td>\n",
       "      <td>0</td>\n",
       "    </tr>\n",
       "    <tr>\n",
       "      <th>28</th>\n",
       "      <td>29.0</td>\n",
       "      <td>New York University</td>\n",
       "      <td>4.0</td>\n",
       "      <td>25.0</td>\n",
       "      <td>1</td>\n",
       "    </tr>\n",
       "    <tr>\n",
       "      <th>2</th>\n",
       "      <td>3.0</td>\n",
       "      <td>University of California, Berkeley</td>\n",
       "      <td>6.0</td>\n",
       "      <td>-3.0</td>\n",
       "      <td>0</td>\n",
       "    </tr>\n",
       "    <tr>\n",
       "      <th>3</th>\n",
       "      <td>4.0</td>\n",
       "      <td>University of Cambridge</td>\n",
       "      <td>8.0</td>\n",
       "      <td>-4.0</td>\n",
       "      <td>0</td>\n",
       "    </tr>\n",
       "  </tbody>\n",
       "</table>\n",
       "</div>"
      ],
      "text/plain": [
       "    rank_sha                          University  rank_wur  diff  direction\n",
       "74      75.0                   Boston University       1.0  74.0          1\n",
       "1        2.0                 Stanford University       3.0  -1.0          0\n",
       "28      29.0                 New York University       4.0  25.0          1\n",
       "2        3.0  University of California, Berkeley       6.0  -3.0          0\n",
       "3        4.0             University of Cambridge       8.0  -4.0          0"
      ]
     },
     "execution_count": 34,
     "metadata": {},
     "output_type": "execute_result"
    }
   ],
   "source": [
    "comparison_result.head()"
   ]
  },
  {
   "cell_type": "code",
   "execution_count": 35,
   "metadata": {
    "collapsed": false
   },
   "outputs": [
    {
     "data": {
      "text/html": [
       "<div>\n",
       "<table border=\"1\" class=\"dataframe\">\n",
       "  <thead>\n",
       "    <tr style=\"text-align: right;\">\n",
       "      <th></th>\n",
       "      <th>rank_sha</th>\n",
       "      <th>University</th>\n",
       "      <th>rank_wur</th>\n",
       "      <th>diff</th>\n",
       "      <th>direction</th>\n",
       "    </tr>\n",
       "  </thead>\n",
       "  <tbody>\n",
       "    <tr>\n",
       "      <th>0</th>\n",
       "      <td>1.0</td>\n",
       "      <td>Harvard University</td>\n",
       "      <td>12.0</td>\n",
       "      <td>-11.0</td>\n",
       "      <td>0</td>\n",
       "    </tr>\n",
       "    <tr>\n",
       "      <th>1</th>\n",
       "      <td>2.0</td>\n",
       "      <td>Stanford University</td>\n",
       "      <td>3.0</td>\n",
       "      <td>-1.0</td>\n",
       "      <td>0</td>\n",
       "    </tr>\n",
       "    <tr>\n",
       "      <th>2</th>\n",
       "      <td>3.0</td>\n",
       "      <td>University of California, Berkeley</td>\n",
       "      <td>6.0</td>\n",
       "      <td>-3.0</td>\n",
       "      <td>0</td>\n",
       "    </tr>\n",
       "    <tr>\n",
       "      <th>3</th>\n",
       "      <td>4.0</td>\n",
       "      <td>University of Cambridge</td>\n",
       "      <td>8.0</td>\n",
       "      <td>-4.0</td>\n",
       "      <td>0</td>\n",
       "    </tr>\n",
       "    <tr>\n",
       "      <th>4</th>\n",
       "      <td>5.0</td>\n",
       "      <td>Massachusetts Institute of Technology</td>\n",
       "      <td>45.0</td>\n",
       "      <td>-40.0</td>\n",
       "      <td>0</td>\n",
       "    </tr>\n",
       "  </tbody>\n",
       "</table>\n",
       "</div>"
      ],
      "text/plain": [
       "   rank_sha                             University  rank_wur  diff  direction\n",
       "0       1.0                     Harvard University      12.0 -11.0          0\n",
       "1       2.0                    Stanford University       3.0  -1.0          0\n",
       "2       3.0     University of California, Berkeley       6.0  -3.0          0\n",
       "3       4.0                University of Cambridge       8.0  -4.0          0\n",
       "4       5.0  Massachusetts Institute of Technology      45.0 -40.0          0"
      ]
     },
     "execution_count": 35,
     "metadata": {},
     "output_type": "execute_result"
    }
   ],
   "source": [
    "comparison_result.sort_values('rank_sha').head()"
   ]
  },
  {
   "cell_type": "code",
   "execution_count": 36,
   "metadata": {
    "collapsed": false
   },
   "outputs": [
    {
     "data": {
      "text/html": [
       "<div>\n",
       "<table border=\"1\" class=\"dataframe\">\n",
       "  <thead>\n",
       "    <tr style=\"text-align: right;\">\n",
       "      <th></th>\n",
       "      <th>rank_sha</th>\n",
       "      <th>University</th>\n",
       "      <th>rank_wur</th>\n",
       "      <th>diff</th>\n",
       "      <th>direction</th>\n",
       "    </tr>\n",
       "  </thead>\n",
       "  <tbody>\n",
       "    <tr>\n",
       "      <th>6</th>\n",
       "      <td>7.0</td>\n",
       "      <td>University of Oxford</td>\n",
       "      <td>95.0</td>\n",
       "      <td>-88.0</td>\n",
       "      <td>0</td>\n",
       "    </tr>\n",
       "    <tr>\n",
       "      <th>26</th>\n",
       "      <td>27.0</td>\n",
       "      <td>University of St. Michael's College</td>\n",
       "      <td>92.0</td>\n",
       "      <td>-65.0</td>\n",
       "      <td>0</td>\n",
       "    </tr>\n",
       "    <tr>\n",
       "      <th>7</th>\n",
       "      <td>8.0</td>\n",
       "      <td>California Institute of Technology</td>\n",
       "      <td>65.0</td>\n",
       "      <td>-57.0</td>\n",
       "      <td>0</td>\n",
       "    </tr>\n",
       "    <tr>\n",
       "      <th>33</th>\n",
       "      <td>34.0</td>\n",
       "      <td>University of British Columbia</td>\n",
       "      <td>89.0</td>\n",
       "      <td>-55.0</td>\n",
       "      <td>0</td>\n",
       "    </tr>\n",
       "    <tr>\n",
       "      <th>39</th>\n",
       "      <td>40.0</td>\n",
       "      <td>University of Melbourne</td>\n",
       "      <td>86.0</td>\n",
       "      <td>-46.0</td>\n",
       "      <td>0</td>\n",
       "    </tr>\n",
       "    <tr>\n",
       "      <th>23</th>\n",
       "      <td>24.0</td>\n",
       "      <td>Washington University in St. Louis</td>\n",
       "      <td>67.0</td>\n",
       "      <td>-43.0</td>\n",
       "      <td>0</td>\n",
       "    </tr>\n",
       "    <tr>\n",
       "      <th>9</th>\n",
       "      <td>10.0</td>\n",
       "      <td>University of Chicago</td>\n",
       "      <td>51.0</td>\n",
       "      <td>-41.0</td>\n",
       "      <td>0</td>\n",
       "    </tr>\n",
       "    <tr>\n",
       "      <th>4</th>\n",
       "      <td>5.0</td>\n",
       "      <td>Massachusetts Institute of Technology</td>\n",
       "      <td>45.0</td>\n",
       "      <td>-40.0</td>\n",
       "      <td>0</td>\n",
       "    </tr>\n",
       "    <tr>\n",
       "      <th>15</th>\n",
       "      <td>16.0</td>\n",
       "      <td>Johns Hopkins University</td>\n",
       "      <td>52.0</td>\n",
       "      <td>-36.0</td>\n",
       "      <td>0</td>\n",
       "    </tr>\n",
       "    <tr>\n",
       "      <th>16</th>\n",
       "      <td>17.0</td>\n",
       "      <td>University College London, University of London</td>\n",
       "      <td>49.0</td>\n",
       "      <td>-32.0</td>\n",
       "      <td>0</td>\n",
       "    </tr>\n",
       "    <tr>\n",
       "      <th>48</th>\n",
       "      <td>49.0</td>\n",
       "      <td>University of Southern California</td>\n",
       "      <td>81.0</td>\n",
       "      <td>-32.0</td>\n",
       "      <td>0</td>\n",
       "    </tr>\n",
       "    <tr>\n",
       "      <th>5</th>\n",
       "      <td>6.0</td>\n",
       "      <td>Princeton University</td>\n",
       "      <td>37.0</td>\n",
       "      <td>-31.0</td>\n",
       "      <td>0</td>\n",
       "    </tr>\n",
       "    <tr>\n",
       "      <th>27</th>\n",
       "      <td>28.0</td>\n",
       "      <td>University of Wisconsin - Madison</td>\n",
       "      <td>48.0</td>\n",
       "      <td>-20.0</td>\n",
       "      <td>0</td>\n",
       "    </tr>\n",
       "    <tr>\n",
       "      <th>11</th>\n",
       "      <td>12.0</td>\n",
       "      <td>University of California, Los Angeles</td>\n",
       "      <td>31.0</td>\n",
       "      <td>-19.0</td>\n",
       "      <td>0</td>\n",
       "    </tr>\n",
       "    <tr>\n",
       "      <th>62</th>\n",
       "      <td>63.0</td>\n",
       "      <td>McGill University</td>\n",
       "      <td>79.0</td>\n",
       "      <td>-16.0</td>\n",
       "      <td>0</td>\n",
       "    </tr>\n",
       "    <tr>\n",
       "      <th>22</th>\n",
       "      <td>23.0</td>\n",
       "      <td>University of Michigan - Ann Arbor</td>\n",
       "      <td>39.0</td>\n",
       "      <td>-16.0</td>\n",
       "      <td>0</td>\n",
       "    </tr>\n",
       "    <tr>\n",
       "      <th>24</th>\n",
       "      <td>25.0</td>\n",
       "      <td>Duke University</td>\n",
       "      <td>38.0</td>\n",
       "      <td>-13.0</td>\n",
       "      <td>0</td>\n",
       "    </tr>\n",
       "    <tr>\n",
       "      <th>0</th>\n",
       "      <td>1.0</td>\n",
       "      <td>Harvard University</td>\n",
       "      <td>12.0</td>\n",
       "      <td>-11.0</td>\n",
       "      <td>0</td>\n",
       "    </tr>\n",
       "    <tr>\n",
       "      <th>72</th>\n",
       "      <td>73.0</td>\n",
       "      <td>Rice University</td>\n",
       "      <td>84.0</td>\n",
       "      <td>-11.0</td>\n",
       "      <td>0</td>\n",
       "    </tr>\n",
       "    <tr>\n",
       "      <th>12</th>\n",
       "      <td>13.0</td>\n",
       "      <td>Cornell University</td>\n",
       "      <td>24.0</td>\n",
       "      <td>-11.0</td>\n",
       "      <td>0</td>\n",
       "    </tr>\n",
       "    <tr>\n",
       "      <th>10</th>\n",
       "      <td>11.0</td>\n",
       "      <td>Yale University</td>\n",
       "      <td>18.0</td>\n",
       "      <td>-7.0</td>\n",
       "      <td>0</td>\n",
       "    </tr>\n",
       "    <tr>\n",
       "      <th>17</th>\n",
       "      <td>18.0</td>\n",
       "      <td>University of Pennsylvania</td>\n",
       "      <td>23.0</td>\n",
       "      <td>-5.0</td>\n",
       "      <td>0</td>\n",
       "    </tr>\n",
       "    <tr>\n",
       "      <th>3</th>\n",
       "      <td>4.0</td>\n",
       "      <td>University of Cambridge</td>\n",
       "      <td>8.0</td>\n",
       "      <td>-4.0</td>\n",
       "      <td>0</td>\n",
       "    </tr>\n",
       "    <tr>\n",
       "      <th>2</th>\n",
       "      <td>3.0</td>\n",
       "      <td>University of California, Berkeley</td>\n",
       "      <td>6.0</td>\n",
       "      <td>-3.0</td>\n",
       "      <td>0</td>\n",
       "    </tr>\n",
       "    <tr>\n",
       "      <th>1</th>\n",
       "      <td>2.0</td>\n",
       "      <td>Stanford University</td>\n",
       "      <td>3.0</td>\n",
       "      <td>-1.0</td>\n",
       "      <td>0</td>\n",
       "    </tr>\n",
       "    <tr>\n",
       "      <th>8</th>\n",
       "      <td>9.0</td>\n",
       "      <td>Columbia University</td>\n",
       "      <td>9.0</td>\n",
       "      <td>0.0</td>\n",
       "      <td>0</td>\n",
       "    </tr>\n",
       "    <tr>\n",
       "      <th>14</th>\n",
       "      <td>15.0</td>\n",
       "      <td>University of Washington</td>\n",
       "      <td>10.0</td>\n",
       "      <td>5.0</td>\n",
       "      <td>1</td>\n",
       "    </tr>\n",
       "    <tr>\n",
       "      <th>40</th>\n",
       "      <td>41.0</td>\n",
       "      <td>University of Edinburgh</td>\n",
       "      <td>30.0</td>\n",
       "      <td>11.0</td>\n",
       "      <td>1</td>\n",
       "    </tr>\n",
       "    <tr>\n",
       "      <th>37</th>\n",
       "      <td>38.0</td>\n",
       "      <td>University of Colorado at Boulder</td>\n",
       "      <td>26.0</td>\n",
       "      <td>12.0</td>\n",
       "      <td>1</td>\n",
       "    </tr>\n",
       "    <tr>\n",
       "      <th>75</th>\n",
       "      <td>76.0</td>\n",
       "      <td>University of California, Davis</td>\n",
       "      <td>59.0</td>\n",
       "      <td>17.0</td>\n",
       "      <td>1</td>\n",
       "    </tr>\n",
       "    <tr>\n",
       "      <th>44</th>\n",
       "      <td>45.0</td>\n",
       "      <td>University of Texas at Austin</td>\n",
       "      <td>27.0</td>\n",
       "      <td>18.0</td>\n",
       "      <td>1</td>\n",
       "    </tr>\n",
       "    <tr>\n",
       "      <th>35</th>\n",
       "      <td>36.0</td>\n",
       "      <td>University of North Carolina at Chapel Hill</td>\n",
       "      <td>13.0</td>\n",
       "      <td>23.0</td>\n",
       "      <td>1</td>\n",
       "    </tr>\n",
       "    <tr>\n",
       "      <th>63</th>\n",
       "      <td>64.0</td>\n",
       "      <td>Purdue University</td>\n",
       "      <td>40.0</td>\n",
       "      <td>24.0</td>\n",
       "      <td>1</td>\n",
       "    </tr>\n",
       "    <tr>\n",
       "      <th>28</th>\n",
       "      <td>29.0</td>\n",
       "      <td>New York University</td>\n",
       "      <td>4.0</td>\n",
       "      <td>25.0</td>\n",
       "      <td>1</td>\n",
       "    </tr>\n",
       "    <tr>\n",
       "      <th>51</th>\n",
       "      <td>52.0</td>\n",
       "      <td>University of Maryland at College Park</td>\n",
       "      <td>19.0</td>\n",
       "      <td>33.0</td>\n",
       "      <td>1</td>\n",
       "    </tr>\n",
       "    <tr>\n",
       "      <th>67</th>\n",
       "      <td>68.0</td>\n",
       "      <td>Carnegie Mellon University</td>\n",
       "      <td>33.0</td>\n",
       "      <td>35.0</td>\n",
       "      <td>1</td>\n",
       "    </tr>\n",
       "    <tr>\n",
       "      <th>92</th>\n",
       "      <td>93.0</td>\n",
       "      <td>Georgia Institute of Technology</td>\n",
       "      <td>56.0</td>\n",
       "      <td>37.0</td>\n",
       "      <td>1</td>\n",
       "    </tr>\n",
       "    <tr>\n",
       "      <th>99</th>\n",
       "      <td>100.0</td>\n",
       "      <td>University of Utah</td>\n",
       "      <td>61.0</td>\n",
       "      <td>39.0</td>\n",
       "      <td>1</td>\n",
       "    </tr>\n",
       "    <tr>\n",
       "      <th>89</th>\n",
       "      <td>90.0</td>\n",
       "      <td>Brown University</td>\n",
       "      <td>42.0</td>\n",
       "      <td>48.0</td>\n",
       "      <td>1</td>\n",
       "    </tr>\n",
       "    <tr>\n",
       "      <th>90</th>\n",
       "      <td>91.0</td>\n",
       "      <td>University of Florida</td>\n",
       "      <td>36.0</td>\n",
       "      <td>55.0</td>\n",
       "      <td>1</td>\n",
       "    </tr>\n",
       "    <tr>\n",
       "      <th>69</th>\n",
       "      <td>70.0</td>\n",
       "      <td>University of Pittsburgh</td>\n",
       "      <td>11.0</td>\n",
       "      <td>59.0</td>\n",
       "      <td>1</td>\n",
       "    </tr>\n",
       "    <tr>\n",
       "      <th>76</th>\n",
       "      <td>77.0</td>\n",
       "      <td>Pennsylvania State University</td>\n",
       "      <td>17.0</td>\n",
       "      <td>60.0</td>\n",
       "      <td>1</td>\n",
       "    </tr>\n",
       "    <tr>\n",
       "      <th>74</th>\n",
       "      <td>75.0</td>\n",
       "      <td>Boston University</td>\n",
       "      <td>1.0</td>\n",
       "      <td>74.0</td>\n",
       "      <td>1</td>\n",
       "    </tr>\n",
       "    <tr>\n",
       "      <th>96</th>\n",
       "      <td>97.0</td>\n",
       "      <td>Rutgers, The State University of New Jersey</td>\n",
       "      <td>22.0</td>\n",
       "      <td>75.0</td>\n",
       "      <td>1</td>\n",
       "    </tr>\n",
       "  </tbody>\n",
       "</table>\n",
       "</div>"
      ],
      "text/plain": [
       "    rank_sha                                       University  rank_wur  diff  \\\n",
       "6        7.0                             University of Oxford      95.0 -88.0   \n",
       "26      27.0              University of St. Michael's College      92.0 -65.0   \n",
       "7        8.0               California Institute of Technology      65.0 -57.0   \n",
       "33      34.0                   University of British Columbia      89.0 -55.0   \n",
       "39      40.0                          University of Melbourne      86.0 -46.0   \n",
       "23      24.0               Washington University in St. Louis      67.0 -43.0   \n",
       "9       10.0                            University of Chicago      51.0 -41.0   \n",
       "4        5.0            Massachusetts Institute of Technology      45.0 -40.0   \n",
       "15      16.0                         Johns Hopkins University      52.0 -36.0   \n",
       "16      17.0  University College London, University of London      49.0 -32.0   \n",
       "48      49.0                University of Southern California      81.0 -32.0   \n",
       "5        6.0                             Princeton University      37.0 -31.0   \n",
       "27      28.0                University of Wisconsin - Madison      48.0 -20.0   \n",
       "11      12.0            University of California, Los Angeles      31.0 -19.0   \n",
       "62      63.0                                McGill University      79.0 -16.0   \n",
       "22      23.0               University of Michigan - Ann Arbor      39.0 -16.0   \n",
       "24      25.0                                  Duke University      38.0 -13.0   \n",
       "0        1.0                               Harvard University      12.0 -11.0   \n",
       "72      73.0                                  Rice University      84.0 -11.0   \n",
       "12      13.0                               Cornell University      24.0 -11.0   \n",
       "10      11.0                                  Yale University      18.0  -7.0   \n",
       "17      18.0                       University of Pennsylvania      23.0  -5.0   \n",
       "3        4.0                          University of Cambridge       8.0  -4.0   \n",
       "2        3.0               University of California, Berkeley       6.0  -3.0   \n",
       "1        2.0                              Stanford University       3.0  -1.0   \n",
       "8        9.0                              Columbia University       9.0   0.0   \n",
       "14      15.0                         University of Washington      10.0   5.0   \n",
       "40      41.0                          University of Edinburgh      30.0  11.0   \n",
       "37      38.0                University of Colorado at Boulder      26.0  12.0   \n",
       "75      76.0                  University of California, Davis      59.0  17.0   \n",
       "44      45.0                    University of Texas at Austin      27.0  18.0   \n",
       "35      36.0      University of North Carolina at Chapel Hill      13.0  23.0   \n",
       "63      64.0                                Purdue University      40.0  24.0   \n",
       "28      29.0                              New York University       4.0  25.0   \n",
       "51      52.0           University of Maryland at College Park      19.0  33.0   \n",
       "67      68.0                       Carnegie Mellon University      33.0  35.0   \n",
       "92      93.0                  Georgia Institute of Technology      56.0  37.0   \n",
       "99     100.0                               University of Utah      61.0  39.0   \n",
       "89      90.0                                 Brown University      42.0  48.0   \n",
       "90      91.0                            University of Florida      36.0  55.0   \n",
       "69      70.0                         University of Pittsburgh      11.0  59.0   \n",
       "76      77.0                    Pennsylvania State University      17.0  60.0   \n",
       "74      75.0                                Boston University       1.0  74.0   \n",
       "96      97.0      Rutgers, The State University of New Jersey      22.0  75.0   \n",
       "\n",
       "    direction  \n",
       "6           0  \n",
       "26          0  \n",
       "7           0  \n",
       "33          0  \n",
       "39          0  \n",
       "23          0  \n",
       "9           0  \n",
       "4           0  \n",
       "15          0  \n",
       "16          0  \n",
       "48          0  \n",
       "5           0  \n",
       "27          0  \n",
       "11          0  \n",
       "62          0  \n",
       "22          0  \n",
       "24          0  \n",
       "0           0  \n",
       "72          0  \n",
       "12          0  \n",
       "10          0  \n",
       "17          0  \n",
       "3           0  \n",
       "2           0  \n",
       "1           0  \n",
       "8           0  \n",
       "14          1  \n",
       "40          1  \n",
       "37          1  \n",
       "75          1  \n",
       "44          1  \n",
       "35          1  \n",
       "63          1  \n",
       "28          1  \n",
       "51          1  \n",
       "67          1  \n",
       "92          1  \n",
       "99          1  \n",
       "89          1  \n",
       "90          1  \n",
       "69          1  \n",
       "76          1  \n",
       "74          1  \n",
       "96          1  "
      ]
     },
     "execution_count": 36,
     "metadata": {},
     "output_type": "execute_result"
    }
   ],
   "source": [
    "comparison_result.sort_values('diff')"
   ]
  },
  {
   "cell_type": "code",
   "execution_count": 40,
   "metadata": {
    "collapsed": false
   },
   "outputs": [
    {
     "data": {
      "image/png": "[encoded data removed]",
      "text/plain": [
       "<matplotlib.figure.Figure at 0x11592fc50>"
      ]
     },
     "metadata": {},
     "output_type": "display_data"
    }
   ],
   "source": [
    "figure = plt.figure(figsize=(15,7))\n",
    "plt.bar(np.arange(comparison_result.shape[0]),comparison_result['diff'].sort_values(), 0.7)\n",
    "plt.xlabel('Universities')\n",
    "plt.ylabel('Difference in position')\n",
    "x = plt.xticks(np.arange(comparison_result.shape[0]) + 0.7 / 2, comparison_result.sort_values('diff')['University'], rotation='vertical')"
   ]
  },
  {
   "cell_type": "code",
   "execution_count": 38,
   "metadata": {
    "collapsed": false
   },
   "outputs": [],
   "source": [
    "plt.savefig('correct_diff_barplot.png')"
   ]
  },
  {
   "cell_type": "code",
   "execution_count": null,
   "metadata": {
    "collapsed": true
   },
   "outputs": [],
   "source": []
  }
 ],
 "metadata": {
  "anaconda-cloud": {},
  "kernelspec": {
   "display_name": "Python [Root]",
   "language": "python",
   "name": "Python [Root]"
  },
  "language_info": {
   "codemirror_mode": {
    "name": "ipython",
    "version": 3
   },
   "file_extension": ".py",
   "mimetype": "text/x-python",
   "name": "python",
   "nbconvert_exporter": "python",
   "pygments_lexer": "ipython3",
   "version": "3.5.2"
  }
 },
 "nbformat": 4,
 "nbformat_minor": 0
}
